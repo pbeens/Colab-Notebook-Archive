{
  "nbformat": 4,
  "nbformat_minor": 0,
  "metadata": {
    "colab": {
      "provenance": [],
      "toc_visible": true
    },
    "kernelspec": {
      "name": "python3",
      "display_name": "Python 3"
    },
    "language_info": {
      "name": "python"
    }
  },
  "cells": [
    {
      "cell_type": "markdown",
      "source": [
        "<a href=\"https://colab.research.google.com/github/pbeens/Colab-Notebook-Archive/blob/main/Sort_lines_by_line_length.ipynb\" target=\"_parent\"><img src=\"https://colab.research.google.com/assets/colab-badge.svg\" alt=\"Open In Colab\"/></a>"
      ],
      "metadata": {
        "id": "4WpEMRib0i1I"
      }
    },
    {
      "cell_type": "markdown",
      "source": [
        "## First create and save your input file"
      ],
      "metadata": {
        "id": "9G_xnFN-smGQ"
      }
    },
    {
      "cell_type": "markdown",
      "source": [
        "After you create the `lines.txt` file using the technique shown in the animation, double-click on it to open it, add your lines of text, then close that tab to save it.\n",
        "\n",
        "You will have to open the Files Browser on the left before you can create the file. After saving it, run either the Beginners or Advanced code below.\n",
        "\n",
        "<img src=\"https://raw.githubusercontent.com/pbeens/Images/eb921c9ca588269fea7ae9535a8fa689aa89e15a/screenshots/programming/colab/2023-12-05-Colab-New-File.gif\" alt=\"How to create lines.txt file\" width=300px border=1>\n",
        "\n",
        "To save this notebook in your own Colab account, click on File > Save a copy in Drive.\n",
        "\n",
        "To navigate to the different sections, open the Table of Contents on the left.\n",
        "\n",
        "To see how I used AI to develop this tutorial, scroll down to the `Created with the help of Bing Chat` section.\n",
        "\n"
      ],
      "metadata": {
        "id": "WQ_-wdoklfAN"
      }
    },
    {
      "cell_type": "markdown",
      "source": [
        "## Beginners Method\n",
        "\n",
        "This Python program reads the contents of a file named `lines.txt`, sorts the lines by their length, and saves the sorted lines to a new file named `sorted_lines.txt`. It also prints the sorted lines to the screen.\n",
        "\n",
        "Here is a step-by-step explanation of what the program does:\n",
        "\n",
        "1. First, the program defines a variable `minimum_line_length` to store the minimum length of a line that we want to include in the sorted output.\n",
        "2. The program then opens the file `lines.txt` in read mode using the `open()` function.\n",
        "3. It reads all the lines from the file using the `readlines()` method and stores them in a list called `lines`.\n",
        "4. The program filters out any lines that are shorter than the minimum line length using a `for` loop and an `if` statement.\n",
        "5. It sorts the list of lines by their length using the `sort()` method with the `key` parameter set to `len`.\n",
        "6. The program then opens a new file named `sorted_lines.txt` in write mode using the `open()` function and writes each sorted line to the file using the `write()` method.\n",
        "7. Finally, the program loops through the sorted lines and prints each line to the screen."
      ],
      "metadata": {
        "id": "JKge3J0Zn8vY"
      }
    },
    {
      "cell_type": "code",
      "execution_count": null,
      "metadata": {
        "id": "I8tEA9t0jPC1"
      },
      "outputs": [],
      "source": [
        "# Define the minimum length of a line to include in the sorted output\n",
        "minimum_line_length = 10\n",
        "\n",
        "# Open the file 'lines.txt' in read mode\n",
        "with open('lines.txt', 'r') as f:\n",
        "    # Read all the lines from the file and store them in a list called 'lines'\n",
        "    lines = f.readlines()\n",
        "\n",
        "    # Filter out any lines that are shorter than the minimum line length\n",
        "    filtered_lines = []\n",
        "    for line in lines:\n",
        "        stripped_line = line.strip()\n",
        "        if len(stripped_line) >= minimum_line_length:\n",
        "            filtered_lines.append(stripped_line)\n",
        "\n",
        "    # Sort the list of lines by their length\n",
        "    filtered_lines.sort(key=len)\n",
        "\n",
        "    # Open a new file named 'sorted_lines.txt' in write mode\n",
        "    with open('sorted_lines.txt', 'w') as f:\n",
        "        # Write each sorted line to the file\n",
        "        for line in filtered_lines:\n",
        "            f.write(line + '\\n')\n",
        "\n",
        "    # Print the sorted lines to the screen\n",
        "    for line in filtered_lines:\n",
        "        print(line)"
      ]
    },
    {
      "cell_type": "markdown",
      "source": [
        "## Advanced (Pythonic) Method\n",
        "\n",
        "This Python program reads the contents of a file named `lines.txt`, sorts the lines by their length, and saves the sorted lines to a new file named `sorted_lines.txt`. It also prints the sorted lines to the screen.\n",
        "\n",
        "Here is a step-by-step explanation of what the program does:\n",
        "\n",
        "1. First, the program defines a variable `minimum_line_length` to store the minimum length of a line that we want to include in the sorted output.\n",
        "2. The program then opens the file `lines.txt` in read mode using the `open()` function.\n",
        "3. It reads all the lines from the file using the `readlines()` method and stores them in a list called `lines`.\n",
        "4. The program filters out any lines that are shorter than the minimum line length using a list comprehension, which is a concise and pythonic way of creating a new list from an existing list based on some condition.\n",
        "5. It sorts the list of lines by their length using the `sort()` method with the `key` parameter set to `len`.\n",
        "6. The program then opens a new file named `sorted_lines.txt` in write mode using the `open()` function and writes each sorted line to the file using the `writelines()` method, which is a more efficient way of writing multiple lines to a file. Again, list comprehension is used.\n",
        "7. Finally, the program prints the sorted lines to the screen using the `print()` function. The asterisk before `filtered_lines` is used to unpack the list into individual elements. In this case, it is used with the `print()` function to print each element of the `filtered_lines` list on a separate line. The `sep='\\n'` parameter tells `print()` to separate the elements with a newline character."
      ],
      "metadata": {
        "id": "f4OYQHRPoJUA"
      }
    },
    {
      "cell_type": "code",
      "source": [
        "# Define the minimum length of a line to include in the sorted output\n",
        "minimum_line_length = 10\n",
        "\n",
        "# Open the file 'lines.txt' in read mode\n",
        "with open('lines.txt', 'r') as f:\n",
        "    # Read all the lines from the file and store them in a list called 'lines'\n",
        "    lines = f.readlines()\n",
        "\n",
        "    # Filter out any lines that are shorter than the minimum line length\n",
        "    filtered_lines = [line.strip() for line in lines if len(line.strip()) >= minimum_line_length]\n",
        "\n",
        "    # Sort the list of lines by their length\n",
        "    filtered_lines.sort(key=len)\n",
        "\n",
        "    # Open a new file named 'sorted_lines.txt' in write mode\n",
        "    with open('sorted_lines.txt', 'w') as f:\n",
        "        # Write each sorted line to the file\n",
        "        f.writelines(line + '\\n' for line in filtered_lines)\n",
        "\n",
        "    # Print the sorted lines to the screen\n",
        "    print(*filtered_lines, sep='\\n')\n"
      ],
      "metadata": {
        "id": "qLWPQ7RZpnpo"
      },
      "execution_count": null,
      "outputs": []
    },
    {
      "cell_type": "markdown",
      "source": [
        "## Created with the help of Bing Chat\n",
        "\n",
        "Some of the prompts I used as I developed this tutorial:\n",
        "\n",
        "* Write a Python program that opens lines.txt, then sorts the lines by line length.\n",
        "* Add a `minimum_line_length` variable to this and reject any lines shorter than this.\n",
        "* Do not use comprehension for this. (to develop the beginner tutorial)\n",
        "* Now save the program to sorted_lines.txt\n",
        "* Also print the lines to the screen.\n",
        "* Describe what this program does, in detail for beginners.\n",
        "* Please add comments to the code.\n",
        "* Now rewrite the program using list comprehension and any other techniques that would make the program more pythonic.\n",
        "* Describe what this program does, in detail for beginners.\n",
        "* In that description, can you make reference to the advanced techniques being used?\n",
        "* What is the asterisk before `filtered_lines`?\n",
        "\n",
        "There is no doubt that I could have been more efficient in my prompt writing, but this specific process clearly shows my thinking as I developed the program/tutorial.\n",
        "\n",
        "I'd love to hear how you use a similar process to develop your programs or tutorials! Please share them with me at Twitter (https://twitter.com/pbeens) or Mastodon (https://mstdn.ca/@pbeens).\n",
        "\n",
        "\n",
        "\n",
        "\n",
        "\n",
        "\n",
        "\n",
        "\n"
      ],
      "metadata": {
        "id": "ywi9ZKQ3rPmY"
      }
    }
  ]
}