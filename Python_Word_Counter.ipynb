{
  "nbformat": 4,
  "nbformat_minor": 0,
  "metadata": {
    "colab": {
      "name": "Python Word Counter.ipynb",
      "provenance": [],
      "authorship_tag": "ABX9TyM0gHDe2EigHQRPFa4y5fHn",
      "include_colab_link": true
    },
    "kernelspec": {
      "name": "python3",
      "display_name": "Python 3"
    },
    "language_info": {
      "name": "python"
    }
  },
  "cells": [
    {
      "cell_type": "markdown",
      "metadata": {
        "id": "view-in-github",
        "colab_type": "text"
      },
      "source": [
        "<a href=\"https://colab.research.google.com/github/pbeens/Colab-Notebook-Archive/blob/main/Python_Word_Counter.ipynb\" target=\"_parent\"><img src=\"https://colab.research.google.com/assets/colab-badge.svg\" alt=\"Open In Colab\"/></a>"
      ]
    },
    {
      "cell_type": "code",
      "execution_count": 1,
      "metadata": {
        "id": "zccIVIf55N_u"
      },
      "outputs": [],
      "source": [
        "# enter your text here\n",
        "s = \"\"\"\n",
        "Lorem ipsum dolor sit amet, consectetur adipiscing elit. Sed feugiat luctus fermentum. Nullam condimentum lacinia quam sed sagittis. Fusce egestas lacus id eros ullamcorper viverra. Ut nec purus vulputate, mollis sem eu, placerat diam. Curabitur vehicula elit quis suscipit volutpat. Phasellus rutrum convallis tristique. Curabitur et mi in quam euismod imperdiet sed ut massa. Suspendisse eleifend dignissim tortor, id venenatis ante consectetur id. Morbi a dui dui. Aliquam nunc purus, tincidunt in consequat eu, tristique vel leo. Cras pellentesque fringilla metus, quis commodo nibh tempus eget. Cras orci tortor, tempus vel volutpat ac, tempus eget enim.\n",
        "Morbi varius nunc iaculis, tempor mi a, dapibus turpis. Class aptent taciti sociosqu ad litora torquent per conubia nostra, per inceptos himenaeos. Curabitur bibendum massa sit amet erat hendrerit, non cursus ante varius. Cras purus augue, auctor non gravida ut, tempus vitae metus. Maecenas ultrices ac lorem a venenatis. Duis dignissim ante eget tincidunt vestibulum. Vivamus vel enim sed nisi aliquam faucibus. Fusce eget ligula eleifend, facilisis sapien non, porta massa. Vestibulum non tellus ac enim laoreet finibus varius pretium ante. Phasellus pharetra est ut eros efficitur auctor. Nunc sed consequat nisi, sit amet congue velit. Mauris pharetra luctus neque sed facilisis. Aliquam viverra elit pretium finibus volutpat.\n",
        "Sed eget egestas purus. Suspendisse nec turpis quis dui consectetur faucibus quis at lectus. Maecenas aliquam ligula vel ex vehicula, eu suscipit ex hendrerit. Integer et commodo lacus. Duis quis lacinia ex. Sed posuere, magna nec rhoncus lobortis, mauris justo porta velit, sed porttitor eros quam non turpis. Integer finibus mattis mattis. In ac suscipit lectus. Nunc vestibulum tincidunt lobortis. Vestibulum ante ipsum primis in faucibus orci luctus et ultrices posuere cubilia curae; Vestibulum tincidunt, nisi vitae porta consequat, sem justo laoreet neque, non blandit ligula ante vitae nisi. Quisque volutpat lacus non nisi porta consectetur. Pellentesque elementum massa vel risus feugiat, sit amet pulvinar metus tincidunt. Curabitur sit amet velit nulla. Praesent consequat augue quam, at facilisis quam lacinia a. Orci varius natoque penatibus et magnis dis parturient montes, nascetur ridiculus mus.\n",
        "Sed tincidunt, turpis in eleifend vulputate, magna erat aliquam velit, vel aliquam ligula purus in augue. Morbi aliquam consectetur ultrices. Mauris tristique at erat sed auctor. Orci varius natoque penatibus et magnis dis parturient montes, nascetur ridiculus mus. Sed commodo odio id ex ultrices gravida. Aenean quis felis et lectus maximus dictum at ac neque. Ut fermentum tellus vitae vulputate luctus. Vestibulum mattis rhoncus tempus. Fusce placerat elit purus, quis sollicitudin nisi tincidunt sed. Pellentesque feugiat facilisis sem ac congue. Nullam condimentum felis massa, non laoreet sapien luctus ac. Orci varius natoque penatibus et magnis dis parturient montes, nascetur ridiculus mus. Curabitur luctus maximus lectus, bibendum suscipit ipsum mattis nec.\n",
        "Suspendisse potenti. Curabitur semper nibh nec velit fermentum condimentum. Nam dapibus augue tristique, tempor nunc a, placerat purus. Phasellus rhoncus viverra posuere. Nullam ex nulla, fermentum id luctus sed, ullamcorper vel erat. Maecenas vitae ullamcorper tellus. Mauris laoreet urna et risus ornare auctor. Ut tellus mi, consectetur a risus vel, elementum feugiat dolor.\n",
        "\"\"\""
      ]
    },
    {
      "cell_type": "code",
      "source": [
        "# initialize the empty word counter dictonary\n",
        "word_count_dict = {}\n",
        "\n",
        "# find the words and add to word_count_dict \n",
        "for word in s.split():\n",
        "    if word not in word_count_dict:\n",
        "        word_count_dict[word] = 1\n",
        "    else: \n",
        "        word_count_dict[word] += 1\n",
        "\n",
        "# print the top words from word_count_dict, sorted by count\n",
        "for word in dict(sorted(word_count_dict.items(), reverse=True, key=lambda item: item[1])):\n",
        "    if word_count_dict[word] > 4: # change the number as appropriate \n",
        "        print(f'{word}: {word_count_dict[word]}')"
      ],
      "metadata": {
        "colab": {
          "base_uri": "https://localhost:8080/"
        },
        "id": "TylfSTKr5T8O",
        "outputId": "41742cbe-5d18-4ae0-ddcf-eca451c017b8"
      },
      "execution_count": 2,
      "outputs": [
        {
          "output_type": "stream",
          "name": "stdout",
          "text": [
            "et: 8\n",
            "sed: 7\n",
            "quis: 7\n",
            "vel: 7\n",
            "non: 7\n",
            "luctus: 6\n",
            "Curabitur: 6\n",
            "sit: 5\n",
            "consectetur: 5\n",
            "Sed: 5\n",
            "in: 5\n",
            "ante: 5\n",
            "varius: 5\n",
            "vitae: 5\n",
            "ac: 5\n",
            "aliquam: 5\n"
          ]
        }
      ]
    }
  ]
}