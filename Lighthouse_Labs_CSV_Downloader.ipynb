{
  "nbformat": 4,
  "nbformat_minor": 0,
  "metadata": {
    "colab": {
      "name": "Lighthouse Labs CSV Downloader.ipynb",
      "provenance": [],
      "authorship_tag": "ABX9TyOL465b6KxYGbndfBBW7Oub",
      "include_colab_link": true
    },
    "kernelspec": {
      "name": "python3",
      "display_name": "Python 3"
    },
    "language_info": {
      "name": "python"
    }
  },
  "cells": [
    {
      "cell_type": "markdown",
      "metadata": {
        "id": "view-in-github",
        "colab_type": "text"
      },
      "source": [
        "<a href=\"https://colab.research.google.com/github/pbeens/Colab-Notebook-Archive/blob/main/Lighthouse_Labs_CSV_Downloader.ipynb\" target=\"_parent\"><img src=\"https://colab.research.google.com/assets/colab-badge.svg\" alt=\"Open In Colab\"/></a>"
      ]
    },
    {
      "cell_type": "markdown",
      "source": [
        "1. Copy and paste this code into a new cell in your challenge notebook.\n",
        "1. Substitute the correct filename in the \"`fname =`\" line.\n",
        "1. Run the program, then download via the `Download CSV file` link. \n",
        "\n",
        "Kudos to [bruvark](https://21day-data-forum.lighthouselabs.ca/u/bruvark/summary) for coming up with this [solution](https://21day-data-forum.lighthouselabs.ca/t/how-to-download-files-from-the-challenges-so-you-can-play-around-with-them-on-your-own/482). My adaptation just uses the `fname` variable to make it a little easier to use."
      ],
      "metadata": {
        "id": "hda3dp2Vh_lJ"
      }
    },
    {
      "cell_type": "code",
      "execution_count": null,
      "metadata": {
        "id": "RPiN5iPEh8li"
      },
      "outputs": [],
      "source": [
        "import base64\n",
        "import pandas as pd\n",
        "from IPython.display import HTML\n",
        "\n",
        "fname = 'nz_car_traffic.csv'\n",
        "\n",
        "def create_download_link( df, title = \"Download CSV file\", filename = fname):\n",
        "    csv = df.to_csv()\n",
        "    b64 = base64.b64encode(csv.encode())\n",
        "    payload = b64.decode()\n",
        "    html = '<a download=\"{filename}\" href=\"data:text/csv;base64,{payload}\" target=\"_blank\">{title}</a>'\n",
        "    html = html.format(payload=payload,title=title,filename=filename)\n",
        "    return HTML(html)\n",
        "\n",
        "download = pd.read_csv(fname)\n",
        "create_download_link(download)"
      ]
    }
  ]
}