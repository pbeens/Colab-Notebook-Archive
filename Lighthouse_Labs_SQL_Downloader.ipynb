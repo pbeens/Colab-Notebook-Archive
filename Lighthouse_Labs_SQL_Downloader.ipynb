{
  "nbformat": 4,
  "nbformat_minor": 0,
  "metadata": {
    "colab": {
      "name": "Lighthouse Labs SQL Downloader.ipynb",
      "provenance": [],
      "authorship_tag": "ABX9TyMNeTORZeBX62gdNWtoOfTQ",
      "include_colab_link": true
    },
    "kernelspec": {
      "name": "python3",
      "display_name": "Python 3"
    },
    "language_info": {
      "name": "python"
    }
  },
  "cells": [
    {
      "cell_type": "markdown",
      "metadata": {
        "id": "view-in-github",
        "colab_type": "text"
      },
      "source": [
        "<a href=\"https://colab.research.google.com/github/pbeens/Colab-Notebook-Archive/blob/main/Lighthouse_Labs_SQL_Downloader.ipynb\" target=\"_parent\"><img src=\"https://colab.research.google.com/assets/colab-badge.svg\" alt=\"Open In Colab\"/></a>"
      ]
    },
    {
      "cell_type": "markdown",
      "source": [
        "1. Copy the code into a new cell in your [Lighthouse Labs](https://data-challenge.lighthouselabs.ca/) notebook.\n",
        "1. Substitute in the filename.\n",
        "1. Run the program, then download via the newly created link in the output. \n",
        "\n",
        "Kudos to [bruvark](https://21day-data-forum.lighthouselabs.ca/u/bruvark/summary) for this."
      ],
      "metadata": {
        "id": "hda3dp2Vh_lJ"
      }
    },
    {
      "cell_type": "code",
      "execution_count": null,
      "metadata": {
        "id": "RPiN5iPEh8li"
      },
      "outputs": [],
      "source": [
        "from IPython.display import FileLink\n",
        "FileLink(\"himalayas.db\")"
      ]
    }
  ]
}