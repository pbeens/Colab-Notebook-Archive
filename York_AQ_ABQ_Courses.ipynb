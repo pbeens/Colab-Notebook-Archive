{
  "nbformat": 4,
  "nbformat_minor": 0,
  "metadata": {
    "colab": {
      "provenance": [],
      "authorship_tag": "ABX9TyN8xtuL2DFrDFy6QfB4xbHL",
      "include_colab_link": true
    },
    "kernelspec": {
      "name": "python3",
      "display_name": "Python 3"
    },
    "language_info": {
      "name": "python"
    }
  },
  "cells": [
    {
      "cell_type": "markdown",
      "metadata": {
        "id": "view-in-github",
        "colab_type": "text"
      },
      "source": [
        "<a href=\"https://colab.research.google.com/github/pbeens/Colab-Notebook-Archive/blob/main/York_AQ_ABQ_Courses.ipynb\" target=\"_parent\"><img src=\"https://colab.research.google.com/assets/colab-badge.svg\" alt=\"Open In Colab\"/></a>"
      ]
    },
    {
      "cell_type": "markdown",
      "metadata": {
        "id": "xpQa6ofvkGOF"
      },
      "source": [
        "#ToDo:\n",
        "\n",
        "This program scans all the URLs to compile a list of all AQ/ABQ courses offered by York, then scans each of those courses to see if they are offered in the prescribed term. The name and URL of each course offered that term is then stored locally in a webpage. \n",
        "\n",
        "GitHub URL: https://github.com/pbeens/python/blob/master/York_AQ_ABQ_Courses.ipynb\n",
        "\n",
        "Colab URL: https://colab.research.google.com/drive/1BKyub3iYTUgvGmmami1hl1YEQHPjP6Zs"
      ]
    },
    {
      "cell_type": "markdown",
      "source": [
        "York has a main page with links to category pages\n",
        "https://www.yorku.ca/edu/professional-learning/aq-abq-pqp-courses/\n",
        "\n",
        "* 3 Part AQs\n",
        "* ABQs\n",
        "* Schedule C AQs\n",
        "* Honour Specialist AQs\n",
        "* PQPs\n",
        "\n",
        "Each category page then has links to the course pages. There are course pages for each offering, so we need to search for the correct registration deadlines. The course name is extracted from the H1 tag.\n",
        "\n",
        "Using this tutorial for guidance:\n",
        "https://www.dataquest.io/blog/web-scraping-python-using-beautiful-soup/"
      ],
      "metadata": {
        "id": "qmCWTf7BTgJo"
      }
    },
    {
      "cell_type": "code",
      "metadata": {
        "id": "4JkB0tWvKnBj"
      },
      "source": [
        "# imports\n",
        "from bs4 import BeautifulSoup\n",
        "import urllib.request"
      ],
      "execution_count": null,
      "outputs": []
    },
    {
      "cell_type": "code",
      "source": [
        "main_url = 'https://www.yorku.ca/edu/professional-learning/aq-abq-pqp-courses/'\n",
        "\n",
        "page = urllib.request.urlopen(main_url)\n",
        "\n",
        "#\n",
        "# ### warm fuzzy stuff - comment out as appropriate ###\n",
        "#\n",
        "# return_code = page\n",
        "# print(f'return_code = {return_code}')\n",
        "\n",
        "# content = page.content\n",
        "# print(content)\n",
        "\n",
        "# convert page to soup object\n",
        "soup = BeautifulSoup(page, \"html.parser\")\n",
        "\n",
        "# ### warm fuzzy stuff - comment out as appropriate ###\n",
        "# print(soup.prettify())\n",
        "# print(list(soup.children))\n",
        "# print([type(item) for item in list(soup.children)])\n",
        "\n"
      ],
      "metadata": {
        "id": "O0c_F48bMoc9"
      },
      "execution_count": null,
      "outputs": []
    },
    {
      "cell_type": "code",
      "source": [
        "#\n",
        "# Get the category links \n",
        "#\n",
        "category_links = []\n",
        "\n",
        "print(f'Finding category links in {main_url}... ')\n",
        "\n",
        "for link in soup.findAll('a'):\n",
        "    s = str(link.get('href'))\n",
        "    if s.find('pdis/web/') > 0:\n",
        "        category_links.append(s)\n",
        "\n",
        "category_links.sort()\n",
        "\n",
        "# warm fuzzy\n",
        "for link in category_links:\n",
        "    print(link)\n",
        "\n",
        "print('Category links found.')"
      ],
      "metadata": {
        "colab": {
          "base_uri": "https://localhost:8080/"
        },
        "id": "3pd0mOwqTynT",
        "outputId": "33e03860-df74-4d97-a595-49a052a51c46"
      },
      "execution_count": null,
      "outputs": [
        {
          "output_type": "stream",
          "name": "stdout",
          "text": [
            "Finding category links in https://www.yorku.ca/edu/professional-learning/aq-abq-pqp-courses/... \n",
            "https://apps.edu.yorku.ca/pdis/web/3_part_aqs.html\n",
            "https://apps.edu.yorku.ca/pdis/web/abqs.html\n",
            "https://apps.edu.yorku.ca/pdis/web/honour_specialist_aqs.html\n",
            "https://apps.edu.yorku.ca/pdis/web/pqps.html\n",
            "https://apps.edu.yorku.ca/pdis/web/schedule_c_aqs.html\n",
            "Category links found.\n"
          ]
        }
      ]
    },
    {
      "cell_type": "code",
      "source": [
        "# \n",
        "# Get the course links from each category link\n",
        "#\n",
        "course_links = []\n",
        "\n",
        "for category_link in category_links:\n",
        "    page = urllib.request.urlopen(category_link)\n",
        "    soup = BeautifulSoup(page, \"html.parser\")\n",
        "    for link in soup.findAll('a'):\n",
        "        s = str(link.get('href'))\n",
        "        if s.find('/pdis/course/') > 0 and not s.endswith('/'):\n",
        "            course_links.append(s)\n",
        "\n",
        "course_links = list(set(course_links)) # delete dupes\n",
        "course_links.sort()\n",
        "\n",
        "# warm fuzzy\n",
        "for link in course_links:\n",
        "    print(link)\n",
        "\n",
        "print('Course links found.')"
      ],
      "metadata": {
        "id": "pJ85oVVWT7CO",
        "colab": {
          "base_uri": "https://localhost:8080/"
        },
        "outputId": "f76ac96f-0010-43a8-fcd1-5de3eedab902"
      },
      "execution_count": null,
      "outputs": [
        {
          "output_type": "stream",
          "name": "stdout",
          "text": [
            "http://apps.edu.yorku.ca/pdis/course/additional-basic-qualifications/dramatic-arts-intermediate-division/vf22ind1\n",
            "http://apps.edu.yorku.ca/pdis/course/additional-basic-qualifications/english-intermediate-division/yf22ine1\n",
            "http://apps.edu.yorku.ca/pdis/course/additional-basic-qualifications/english-senior-division/yf22sbe1\n",
            "http://apps.edu.yorku.ca/pdis/course/additional-basic-qualifications/first-nations-m-tis-and-inuit-studies-intermediate-division/yf22inns1\n",
            "http://apps.edu.yorku.ca/pdis/course/additional-basic-qualifications/first-nations-m-tis-and-inuit-studies-senior-division/yf22sns1\n",
            "http://apps.edu.yorku.ca/pdis/course/additional-basic-qualifications/health-and-physical-education-intermediate-division/vf22inp1\n",
            "http://apps.edu.yorku.ca/pdis/course/additional-basic-qualifications/health-physical-education-senior-division/vf22sps1\n",
            "http://apps.edu.yorku.ca/pdis/course/additional-basic-qualifications/history-intermediate-division/yf22inh1\n",
            "http://apps.edu.yorku.ca/pdis/course/additional-basic-qualifications/history-senior-division/yf22sbh1\n",
            "http://apps.edu.yorku.ca/pdis/course/additional-basic-qualifications/junior-division-with-a-leadership-focus/yf22jrl1\n",
            "http://apps.edu.yorku.ca/pdis/course/additional-basic-qualifications/junior-division/yf22jrb1\n",
            "http://apps.edu.yorku.ca/pdis/course/additional-basic-qualifications/mathematics-intermediate-division/yf22inm1\n",
            "http://apps.edu.yorku.ca/pdis/course/additional-basic-qualifications/primary-division/yf22prb1\n",
            "http://apps.edu.yorku.ca/pdis/course/arts-aqs/dance-honour-specialist/vf22hda1\n",
            "http://apps.edu.yorku.ca/pdis/course/arts-aqs/dance-part-1/vf22da11\n",
            "http://apps.edu.yorku.ca/pdis/course/arts-aqs/dance-part-2/vf22da21\n",
            "http://apps.edu.yorku.ca/pdis/course/arts-aqs/dance-part-3-specialist/vf22da31\n",
            "http://apps.edu.yorku.ca/pdis/course/arts-aqs/music-honour-specialist/vf22hmu1\n",
            "http://apps.edu.yorku.ca/pdis/course/arts-aqs/vocal-music-p-j-part-1/vf22vm11\n",
            "http://apps.edu.yorku.ca/pdis/course/arts-aqs/vocal-music-p-j-part-2/vf22vm21\n",
            "http://apps.edu.yorku.ca/pdis/course/arts-aqs/vocal-music-p-j-part-3-specialist/vf22vm31\n",
            "http://apps.edu.yorku.ca/pdis/course/co-operative-education/co-operative-education-part-1/yf22cp11\n",
            "http://apps.edu.yorku.ca/pdis/course/co-operative-education/co-operative-education-part-2/yf22cp21\n",
            "http://apps.edu.yorku.ca/pdis/course/co-operative-education/co-operative-education-part-3-specialist/yf22cp31\n",
            "http://apps.edu.yorku.ca/pdis/course/english/english-honour-specialist/yf22hen1\n",
            "http://apps.edu.yorku.ca/pdis/course/french-as-a-second-language/french-as-a-second-language-part-1/yf22fr11\n",
            "http://apps.edu.yorku.ca/pdis/course/french-as-a-second-language/french-as-a-second-language-part-2/yf22fr21\n",
            "http://apps.edu.yorku.ca/pdis/course/french-as-a-second-language/french-as-a-second-language-part-3-specialist/yf22fr31\n",
            "http://apps.edu.yorku.ca/pdis/course/guidance-and-career-education/guidance-and-career-education-part-1/yf22gu11\n",
            "http://apps.edu.yorku.ca/pdis/course/guidance-and-career-education/guidance-and-career-education-part-2/yf22gu21\n",
            "http://apps.edu.yorku.ca/pdis/course/guidance-and-career-education/guidance-and-career-education-part-3-specialist/yf22gu31\n",
            "http://apps.edu.yorku.ca/pdis/course/health-and-physical-education/health-and-physical-education-honour-specialist/vf22hhp1\n",
            "http://apps.edu.yorku.ca/pdis/course/health-and-physical-education/health-and-physical-education-i-s-part-1/vf22ps11\n",
            "http://apps.edu.yorku.ca/pdis/course/health-and-physical-education/health-and-physical-education-i-s-part-2/vf22ps21\n",
            "http://apps.edu.yorku.ca/pdis/course/health-and-physical-education/health-and-physical-education-i-s-part-3-specialist/vf22ps31\n",
            "http://apps.edu.yorku.ca/pdis/course/health-and-physical-education/health-and-physical-education-p-j-part-1/vf22ph11\n",
            "http://apps.edu.yorku.ca/pdis/course/health-and-physical-education/health-and-physical-education-p-j-part-2/vf22ph21\n",
            "http://apps.edu.yorku.ca/pdis/course/health-and-physical-education/health-and-physical-education-p-j-part-3-specialist/vf22ph31\n",
            "http://apps.edu.yorku.ca/pdis/course/integration-of-information-computer-technology/integration-of-information-computer-technology-part-1/yf22co11\n",
            "http://apps.edu.yorku.ca/pdis/course/integration-of-information-computer-technology/integration-of-information-computer-technology-part-2/yf22co21\n",
            "http://apps.edu.yorku.ca/pdis/course/integration-of-information-computer-technology/integration-of-information-computer-technology-part-3-specialist/yf22co31\n",
            "http://apps.edu.yorku.ca/pdis/course/kindergarten/kindergarten-part-1/yf22kg11\n",
            "http://apps.edu.yorku.ca/pdis/course/kindergarten/kindergarten-part-2/yf22kg21\n",
            "http://apps.edu.yorku.ca/pdis/course/kindergarten/kindergarten-part-3-specialist/yf22kg31\n",
            "http://apps.edu.yorku.ca/pdis/course/librarianship/teacher-librarian-part-1/yf22lb11\n",
            "http://apps.edu.yorku.ca/pdis/course/librarianship/teacher-librarian-part-2/yf22lb21\n",
            "http://apps.edu.yorku.ca/pdis/course/librarianship/teacher-librarian-specialist/yf22lb31\n",
            "http://apps.edu.yorku.ca/pdis/course/mathematics/mathematics-grades-7-8/yf22ma71\n",
            "http://apps.edu.yorku.ca/pdis/course/mathematics/mathematics-primary-and-junior-part-1/yf22ma11\n",
            "http://apps.edu.yorku.ca/pdis/course/mathematics/mathematics-primary-and-junior-part-2/yf22ma21\n",
            "http://apps.edu.yorku.ca/pdis/course/mathematics/mathematics-primary-and-junior-part-3-specialist/yf22ma31\n",
            "http://apps.edu.yorku.ca/pdis/course/pqp/principals-qualification-program-part-1-independent-school-focus/pf22pis11\n",
            "http://apps.edu.yorku.ca/pdis/course/pqp/principals-qualification-program-part-1/pf22pqp11\n",
            "http://apps.edu.yorku.ca/pdis/course/pqp/principals-qualification-program-part-1/pf22pqp12\n",
            "http://apps.edu.yorku.ca/pdis/course/pqp/principals-qualification-program-part-2-independent-school-focus/pf22pis21\n",
            "http://apps.edu.yorku.ca/pdis/course/pqp/principals-qualification-program-part-2/pf22pqp21\n",
            "http://apps.edu.yorku.ca/pdis/course/pqp/principals-qualification-program-part-2/pf22pqp22\n",
            "http://apps.edu.yorku.ca/pdis/course/reading/reading-part-1-intermediate-and-senior-focus/yf22al11\n",
            "http://apps.edu.yorku.ca/pdis/course/reading/reading-part-1/yf22re11\n",
            "http://apps.edu.yorku.ca/pdis/course/reading/reading-part-2-intermediate-and-senior-focus/yf22al21\n",
            "http://apps.edu.yorku.ca/pdis/course/reading/reading-part-2/yf22re21\n",
            "http://apps.edu.yorku.ca/pdis/course/reading/reading-part-3-specialist-intermediate-and-senior-focus/yf22al31\n",
            "http://apps.edu.yorku.ca/pdis/course/reading/reading-part-3-specialist/yf22re31\n",
            "http://apps.edu.yorku.ca/pdis/course/schedule-c-aqs/alternative-education/yf22alt1\n",
            "http://apps.edu.yorku.ca/pdis/course/schedule-c-aqs/mentoring/yf22men1\n",
            "http://apps.edu.yorku.ca/pdis/course/schedule-c-aqs/student-assessment-and-evaluation/yf22sae1\n",
            "http://apps.edu.yorku.ca/pdis/course/schedule-c-aqs/teaching-learning-through-e-learning/yf22lte1\n",
            "http://apps.edu.yorku.ca/pdis/course/schedule-c-aqs/teaching-students-with-communication-needs-autism-spectrum-disorders/yf22tcna1\n",
            "http://apps.edu.yorku.ca/pdis/course/schedule-c-aqs/teaching-students-with-intellectual-needs-developmental-disability/yf22tsin1\n",
            "http://apps.edu.yorku.ca/pdis/course/special-education/special-education-part-1-secondary-focus/yf22ssp111\n",
            "http://apps.edu.yorku.ca/pdis/course/special-education/special-education-part-1/yf22sp11\n",
            "http://apps.edu.yorku.ca/pdis/course/special-education/special-education-part-2-secondary-focus/yf22ssp221\n",
            "http://apps.edu.yorku.ca/pdis/course/special-education/special-education-part-2/yf22sp21\n",
            "http://apps.edu.yorku.ca/pdis/course/special-education/special-education-part-3-specialist-secondary-focus/yf22ssp311\n",
            "http://apps.edu.yorku.ca/pdis/course/special-education/special-education-part-3-specialist/yf22sp31\n",
            "http://apps.edu.yorku.ca/pdis/course/teaching-english-language-learners/teaching-english-language-learners-part-1/yf22en11\n",
            "http://apps.edu.yorku.ca/pdis/course/teaching-english-language-learners/teaching-english-language-learners-part-2/yf22en21\n",
            "http://apps.edu.yorku.ca/pdis/course/teaching-english-language-learners/teaching-english-language-learners-part-3-specialist/yf22en31\n",
            "http://apps.edu.yorku.ca/pdis/course/writing/writing-part-1/yf22wr11\n",
            "http://apps.edu.yorku.ca/pdis/course/writing/writing-part-2/yf22wr21\n",
            "http://apps.edu.yorku.ca/pdis/course/writing/writing-part-3-specialist/yf22wr31\n",
            "Course links found.\n"
          ]
        }
      ]
    },
    {
      "cell_type": "code",
      "source": [
        "#\n",
        "# Process all the course links to find which courses are running\n",
        "#\n",
        "# CHANGE THE DEADLINE IN THE CODE\n",
        "#\n",
        "deadline = 'Registration Deadline: Sep 27, 2022'\n",
        "courses_this_term = [] # url[]\n",
        "count = 0\n",
        "\n",
        "print('Finding courses this term...')\n",
        "\n",
        "for course_link in course_links:\n",
        "    # print(course_link)\n",
        "    page = urllib.request.urlopen(course_link)\n",
        "    soup = BeautifulSoup(page, \"html.parser\")\n",
        "    text = soup.get_text()\n",
        "    if text.count(deadline) > 0:\n",
        "        courses_this_term.append(course_link)\n",
        "        count += 1\n",
        "        print(count, course_link)\n",
        "\n",
        "print(f'\\nFound {count} courses this term.')"
      ],
      "metadata": {
        "colab": {
          "base_uri": "https://localhost:8080/"
        },
        "id": "t3nOf0FBT_QM",
        "outputId": "3101082c-8c84-476b-b937-28171b2810ed"
      },
      "execution_count": null,
      "outputs": [
        {
          "output_type": "stream",
          "name": "stdout",
          "text": [
            "Finding courses this term...\n",
            "1 http://apps.edu.yorku.ca/pdis/course/additional-basic-qualifications/dramatic-arts-intermediate-division/vf22ind1\n",
            "2 http://apps.edu.yorku.ca/pdis/course/additional-basic-qualifications/english-intermediate-division/yf22ine1\n",
            "3 http://apps.edu.yorku.ca/pdis/course/additional-basic-qualifications/english-senior-division/yf22sbe1\n",
            "4 http://apps.edu.yorku.ca/pdis/course/additional-basic-qualifications/first-nations-m-tis-and-inuit-studies-intermediate-division/yf22inns1\n",
            "5 http://apps.edu.yorku.ca/pdis/course/additional-basic-qualifications/first-nations-m-tis-and-inuit-studies-senior-division/yf22sns1\n",
            "6 http://apps.edu.yorku.ca/pdis/course/additional-basic-qualifications/health-and-physical-education-intermediate-division/vf22inp1\n",
            "7 http://apps.edu.yorku.ca/pdis/course/additional-basic-qualifications/health-physical-education-senior-division/vf22sps1\n",
            "8 http://apps.edu.yorku.ca/pdis/course/additional-basic-qualifications/history-intermediate-division/yf22inh1\n",
            "9 http://apps.edu.yorku.ca/pdis/course/additional-basic-qualifications/history-senior-division/yf22sbh1\n",
            "10 http://apps.edu.yorku.ca/pdis/course/additional-basic-qualifications/junior-division-with-a-leadership-focus/yf22jrl1\n",
            "11 http://apps.edu.yorku.ca/pdis/course/additional-basic-qualifications/junior-division/yf22jrb1\n",
            "12 http://apps.edu.yorku.ca/pdis/course/additional-basic-qualifications/mathematics-intermediate-division/yf22inm1\n",
            "13 http://apps.edu.yorku.ca/pdis/course/additional-basic-qualifications/primary-division/yf22prb1\n",
            "14 http://apps.edu.yorku.ca/pdis/course/arts-aqs/dance-honour-specialist/vf22hda1\n",
            "15 http://apps.edu.yorku.ca/pdis/course/arts-aqs/dance-part-1/vf22da11\n",
            "16 http://apps.edu.yorku.ca/pdis/course/arts-aqs/dance-part-2/vf22da21\n",
            "17 http://apps.edu.yorku.ca/pdis/course/arts-aqs/dance-part-3-specialist/vf22da31\n",
            "18 http://apps.edu.yorku.ca/pdis/course/arts-aqs/music-honour-specialist/vf22hmu1\n",
            "19 http://apps.edu.yorku.ca/pdis/course/arts-aqs/vocal-music-p-j-part-1/vf22vm11\n",
            "20 http://apps.edu.yorku.ca/pdis/course/arts-aqs/vocal-music-p-j-part-2/vf22vm21\n",
            "21 http://apps.edu.yorku.ca/pdis/course/arts-aqs/vocal-music-p-j-part-3-specialist/vf22vm31\n",
            "22 http://apps.edu.yorku.ca/pdis/course/co-operative-education/co-operative-education-part-1/yf22cp11\n",
            "23 http://apps.edu.yorku.ca/pdis/course/co-operative-education/co-operative-education-part-2/yf22cp21\n",
            "24 http://apps.edu.yorku.ca/pdis/course/co-operative-education/co-operative-education-part-3-specialist/yf22cp31\n",
            "25 http://apps.edu.yorku.ca/pdis/course/english/english-honour-specialist/yf22hen1\n",
            "26 http://apps.edu.yorku.ca/pdis/course/french-as-a-second-language/french-as-a-second-language-part-1/yf22fr11\n",
            "27 http://apps.edu.yorku.ca/pdis/course/french-as-a-second-language/french-as-a-second-language-part-2/yf22fr21\n",
            "28 http://apps.edu.yorku.ca/pdis/course/french-as-a-second-language/french-as-a-second-language-part-3-specialist/yf22fr31\n",
            "29 http://apps.edu.yorku.ca/pdis/course/guidance-and-career-education/guidance-and-career-education-part-1/yf22gu11\n",
            "30 http://apps.edu.yorku.ca/pdis/course/guidance-and-career-education/guidance-and-career-education-part-2/yf22gu21\n",
            "31 http://apps.edu.yorku.ca/pdis/course/guidance-and-career-education/guidance-and-career-education-part-3-specialist/yf22gu31\n",
            "32 http://apps.edu.yorku.ca/pdis/course/health-and-physical-education/health-and-physical-education-honour-specialist/vf22hhp1\n",
            "33 http://apps.edu.yorku.ca/pdis/course/health-and-physical-education/health-and-physical-education-i-s-part-1/vf22ps11\n",
            "34 http://apps.edu.yorku.ca/pdis/course/health-and-physical-education/health-and-physical-education-i-s-part-2/vf22ps21\n",
            "35 http://apps.edu.yorku.ca/pdis/course/health-and-physical-education/health-and-physical-education-i-s-part-3-specialist/vf22ps31\n",
            "36 http://apps.edu.yorku.ca/pdis/course/health-and-physical-education/health-and-physical-education-p-j-part-1/vf22ph11\n",
            "37 http://apps.edu.yorku.ca/pdis/course/health-and-physical-education/health-and-physical-education-p-j-part-2/vf22ph21\n",
            "38 http://apps.edu.yorku.ca/pdis/course/health-and-physical-education/health-and-physical-education-p-j-part-3-specialist/vf22ph31\n",
            "39 http://apps.edu.yorku.ca/pdis/course/integration-of-information-computer-technology/integration-of-information-computer-technology-part-1/yf22co11\n",
            "40 http://apps.edu.yorku.ca/pdis/course/integration-of-information-computer-technology/integration-of-information-computer-technology-part-2/yf22co21\n",
            "41 http://apps.edu.yorku.ca/pdis/course/integration-of-information-computer-technology/integration-of-information-computer-technology-part-3-specialist/yf22co31\n",
            "42 http://apps.edu.yorku.ca/pdis/course/kindergarten/kindergarten-part-1/yf22kg11\n",
            "43 http://apps.edu.yorku.ca/pdis/course/kindergarten/kindergarten-part-2/yf22kg21\n",
            "44 http://apps.edu.yorku.ca/pdis/course/kindergarten/kindergarten-part-3-specialist/yf22kg31\n",
            "45 http://apps.edu.yorku.ca/pdis/course/librarianship/teacher-librarian-part-1/yf22lb11\n",
            "46 http://apps.edu.yorku.ca/pdis/course/librarianship/teacher-librarian-part-2/yf22lb21\n",
            "47 http://apps.edu.yorku.ca/pdis/course/librarianship/teacher-librarian-specialist/yf22lb31\n",
            "48 http://apps.edu.yorku.ca/pdis/course/mathematics/mathematics-grades-7-8/yf22ma71\n",
            "49 http://apps.edu.yorku.ca/pdis/course/mathematics/mathematics-primary-and-junior-part-1/yf22ma11\n",
            "50 http://apps.edu.yorku.ca/pdis/course/mathematics/mathematics-primary-and-junior-part-2/yf22ma21\n",
            "51 http://apps.edu.yorku.ca/pdis/course/mathematics/mathematics-primary-and-junior-part-3-specialist/yf22ma31\n",
            "52 http://apps.edu.yorku.ca/pdis/course/pqp/principals-qualification-program-part-1-independent-school-focus/pf22pis11\n",
            "53 http://apps.edu.yorku.ca/pdis/course/pqp/principals-qualification-program-part-1/pf22pqp11\n",
            "54 http://apps.edu.yorku.ca/pdis/course/pqp/principals-qualification-program-part-1/pf22pqp12\n",
            "55 http://apps.edu.yorku.ca/pdis/course/pqp/principals-qualification-program-part-2-independent-school-focus/pf22pis21\n",
            "56 http://apps.edu.yorku.ca/pdis/course/pqp/principals-qualification-program-part-2/pf22pqp21\n",
            "57 http://apps.edu.yorku.ca/pdis/course/pqp/principals-qualification-program-part-2/pf22pqp22\n",
            "58 http://apps.edu.yorku.ca/pdis/course/reading/reading-part-1-intermediate-and-senior-focus/yf22al11\n",
            "59 http://apps.edu.yorku.ca/pdis/course/reading/reading-part-1/yf22re11\n",
            "60 http://apps.edu.yorku.ca/pdis/course/reading/reading-part-2-intermediate-and-senior-focus/yf22al21\n",
            "61 http://apps.edu.yorku.ca/pdis/course/reading/reading-part-2/yf22re21\n",
            "62 http://apps.edu.yorku.ca/pdis/course/reading/reading-part-3-specialist-intermediate-and-senior-focus/yf22al31\n",
            "63 http://apps.edu.yorku.ca/pdis/course/reading/reading-part-3-specialist/yf22re31\n",
            "64 http://apps.edu.yorku.ca/pdis/course/schedule-c-aqs/alternative-education/yf22alt1\n",
            "65 http://apps.edu.yorku.ca/pdis/course/schedule-c-aqs/mentoring/yf22men1\n",
            "66 http://apps.edu.yorku.ca/pdis/course/schedule-c-aqs/student-assessment-and-evaluation/yf22sae1\n",
            "67 http://apps.edu.yorku.ca/pdis/course/schedule-c-aqs/teaching-learning-through-e-learning/yf22lte1\n",
            "68 http://apps.edu.yorku.ca/pdis/course/schedule-c-aqs/teaching-students-with-communication-needs-autism-spectrum-disorders/yf22tcna1\n",
            "69 http://apps.edu.yorku.ca/pdis/course/schedule-c-aqs/teaching-students-with-intellectual-needs-developmental-disability/yf22tsin1\n",
            "70 http://apps.edu.yorku.ca/pdis/course/special-education/special-education-part-1-secondary-focus/yf22ssp111\n",
            "71 http://apps.edu.yorku.ca/pdis/course/special-education/special-education-part-1/yf22sp11\n",
            "72 http://apps.edu.yorku.ca/pdis/course/special-education/special-education-part-2-secondary-focus/yf22ssp221\n",
            "73 http://apps.edu.yorku.ca/pdis/course/special-education/special-education-part-2/yf22sp21\n",
            "74 http://apps.edu.yorku.ca/pdis/course/special-education/special-education-part-3-specialist-secondary-focus/yf22ssp311\n",
            "75 http://apps.edu.yorku.ca/pdis/course/special-education/special-education-part-3-specialist/yf22sp31\n",
            "76 http://apps.edu.yorku.ca/pdis/course/teaching-english-language-learners/teaching-english-language-learners-part-1/yf22en11\n",
            "77 http://apps.edu.yorku.ca/pdis/course/teaching-english-language-learners/teaching-english-language-learners-part-2/yf22en21\n",
            "78 http://apps.edu.yorku.ca/pdis/course/teaching-english-language-learners/teaching-english-language-learners-part-3-specialist/yf22en31\n",
            "79 http://apps.edu.yorku.ca/pdis/course/writing/writing-part-1/yf22wr11\n",
            "80 http://apps.edu.yorku.ca/pdis/course/writing/writing-part-2/yf22wr21\n",
            "81 http://apps.edu.yorku.ca/pdis/course/writing/writing-part-3-specialist/yf22wr31\n",
            "\n",
            "Found 81 courses this term.\n"
          ]
        }
      ]
    },
    {
      "cell_type": "code",
      "source": [
        "term_course_dict = {}\n",
        "for url in courses_this_term:\n",
        "    page = urllib.request.urlopen(url)\n",
        "    soup = BeautifulSoup(page, \"html.parser\")\n",
        "    subject = soup.find('h1').get_text()\n",
        "    course_section = url.split('/')[-1]\n",
        "    course_plus_section = subject + '-' + course_section\n",
        "    term_course_dict[course_plus_section] = url\n",
        "    print(f'{course_plus_section}\\n\\t{url}')"
      ],
      "metadata": {
        "id": "cmCykWsFUpmC"
      },
      "execution_count": null,
      "outputs": []
    },
    {
      "cell_type": "code",
      "source": [
        "print(term_course_dict)"
      ],
      "metadata": {
        "id": "NNDQJAfg8-sA",
        "colab": {
          "base_uri": "https://localhost:8080/"
        },
        "outputId": "decaf57d-6049-445d-c706-4c9dcbdc4e26"
      },
      "execution_count": null,
      "outputs": [
        {
          "output_type": "stream",
          "name": "stdout",
          "text": [
            "{'Dramatic Arts - Intermediate Division-vf22ind1': 'http://apps.edu.yorku.ca/pdis/course/additional-basic-qualifications/dramatic-arts-intermediate-division/vf22ind1', 'English - Intermediate Division-yf22ine1': 'http://apps.edu.yorku.ca/pdis/course/additional-basic-qualifications/english-intermediate-division/yf22ine1', 'English - Senior Division-yf22sbe1': 'http://apps.edu.yorku.ca/pdis/course/additional-basic-qualifications/english-senior-division/yf22sbe1', 'First Nations, Métis and Inuit Studies - Intermediate Division-yf22inns1': 'http://apps.edu.yorku.ca/pdis/course/additional-basic-qualifications/first-nations-m-tis-and-inuit-studies-intermediate-division/yf22inns1', 'First Nations, Métis and Inuit Studies - Senior Division-yf22sns1': 'http://apps.edu.yorku.ca/pdis/course/additional-basic-qualifications/first-nations-m-tis-and-inuit-studies-senior-division/yf22sns1', 'Health and Physical Education - Intermediate Division-vf22inp1': 'http://apps.edu.yorku.ca/pdis/course/additional-basic-qualifications/health-and-physical-education-intermediate-division/vf22inp1', 'Health & Physical Education - Senior Division-vf22sps1': 'http://apps.edu.yorku.ca/pdis/course/additional-basic-qualifications/health-physical-education-senior-division/vf22sps1', 'History - Intermediate Division-yf22inh1': 'http://apps.edu.yorku.ca/pdis/course/additional-basic-qualifications/history-intermediate-division/yf22inh1', 'History - Senior Division-yf22sbh1': 'http://apps.edu.yorku.ca/pdis/course/additional-basic-qualifications/history-senior-division/yf22sbh1', 'Junior Division (with a Leadership Focus)-yf22jrl1': 'http://apps.edu.yorku.ca/pdis/course/additional-basic-qualifications/junior-division-with-a-leadership-focus/yf22jrl1', 'Junior Division-yf22jrb1': 'http://apps.edu.yorku.ca/pdis/course/additional-basic-qualifications/junior-division/yf22jrb1', 'Mathematics - Intermediate Division-yf22inm1': 'http://apps.edu.yorku.ca/pdis/course/additional-basic-qualifications/mathematics-intermediate-division/yf22inm1', 'Primary Division-yf22prb1': 'http://apps.edu.yorku.ca/pdis/course/additional-basic-qualifications/primary-division/yf22prb1', 'Dance - Honour Specialist-vf22hda1': 'http://apps.edu.yorku.ca/pdis/course/arts-aqs/dance-honour-specialist/vf22hda1', 'Dance, Part 1-vf22da11': 'http://apps.edu.yorku.ca/pdis/course/arts-aqs/dance-part-1/vf22da11', 'Dance, Part 2-vf22da21': 'http://apps.edu.yorku.ca/pdis/course/arts-aqs/dance-part-2/vf22da21', 'Dance, Part 3 Specialist-vf22da31': 'http://apps.edu.yorku.ca/pdis/course/arts-aqs/dance-part-3-specialist/vf22da31', 'Music -Honour Specialist-vf22hmu1': 'http://apps.edu.yorku.ca/pdis/course/arts-aqs/music-honour-specialist/vf22hmu1', 'Vocal Music (P/J) Part 1-vf22vm11': 'http://apps.edu.yorku.ca/pdis/course/arts-aqs/vocal-music-p-j-part-1/vf22vm11', 'Vocal Music (P/J) Part 2-vf22vm21': 'http://apps.edu.yorku.ca/pdis/course/arts-aqs/vocal-music-p-j-part-2/vf22vm21', 'Vocal Music (P/J) Part 3 Specialist-vf22vm31': 'http://apps.edu.yorku.ca/pdis/course/arts-aqs/vocal-music-p-j-part-3-specialist/vf22vm31', 'Co-operative Education, Part 1-yf22cp11': 'http://apps.edu.yorku.ca/pdis/course/co-operative-education/co-operative-education-part-1/yf22cp11', 'Co-operative Education, Part 2-yf22cp21': 'http://apps.edu.yorku.ca/pdis/course/co-operative-education/co-operative-education-part-2/yf22cp21', 'Co-operative Education, Part 3 Specialist-yf22cp31': 'http://apps.edu.yorku.ca/pdis/course/co-operative-education/co-operative-education-part-3-specialist/yf22cp31', 'English - Honour Specialist-yf22hen1': 'http://apps.edu.yorku.ca/pdis/course/english/english-honour-specialist/yf22hen1', 'French As A Second Language, Part 1-yf22fr11': 'http://apps.edu.yorku.ca/pdis/course/french-as-a-second-language/french-as-a-second-language-part-1/yf22fr11', 'French As A Second Language, Part 2-yf22fr21': 'http://apps.edu.yorku.ca/pdis/course/french-as-a-second-language/french-as-a-second-language-part-2/yf22fr21', 'French As A Second Language, Part 3 Specialist-yf22fr31': 'http://apps.edu.yorku.ca/pdis/course/french-as-a-second-language/french-as-a-second-language-part-3-specialist/yf22fr31', 'Guidance and Career Education, Part 1-yf22gu11': 'http://apps.edu.yorku.ca/pdis/course/guidance-and-career-education/guidance-and-career-education-part-1/yf22gu11', 'Guidance and Career Education, Part 2-yf22gu21': 'http://apps.edu.yorku.ca/pdis/course/guidance-and-career-education/guidance-and-career-education-part-2/yf22gu21', 'Guidance and Career Education, Part 3 Specialist-yf22gu31': 'http://apps.edu.yorku.ca/pdis/course/guidance-and-career-education/guidance-and-career-education-part-3-specialist/yf22gu31', 'Health and Physical Education - Honour Specialist-vf22hhp1': 'http://apps.edu.yorku.ca/pdis/course/health-and-physical-education/health-and-physical-education-honour-specialist/vf22hhp1', 'Health and Physical Education (I/S), Part 1-vf22ps11': 'http://apps.edu.yorku.ca/pdis/course/health-and-physical-education/health-and-physical-education-i-s-part-1/vf22ps11', 'Health and Physical Education (I/S), Part 2-vf22ps21': 'http://apps.edu.yorku.ca/pdis/course/health-and-physical-education/health-and-physical-education-i-s-part-2/vf22ps21', 'Health and Physical Education (I/S), Part 3 Specialist-vf22ps31': 'http://apps.edu.yorku.ca/pdis/course/health-and-physical-education/health-and-physical-education-i-s-part-3-specialist/vf22ps31', 'Health and Physical Education (P/J), Part 1-vf22ph11': 'http://apps.edu.yorku.ca/pdis/course/health-and-physical-education/health-and-physical-education-p-j-part-1/vf22ph11', 'Health and Physical Education (P/J), Part 2-vf22ph21': 'http://apps.edu.yorku.ca/pdis/course/health-and-physical-education/health-and-physical-education-p-j-part-2/vf22ph21', 'Health and Physical Education (P/J), Part 3 Specialist-vf22ph31': 'http://apps.edu.yorku.ca/pdis/course/health-and-physical-education/health-and-physical-education-p-j-part-3-specialist/vf22ph31', 'Integration Of Information & Computer Technology, Part 1-yf22co11': 'http://apps.edu.yorku.ca/pdis/course/integration-of-information-computer-technology/integration-of-information-computer-technology-part-1/yf22co11', 'Integration Of Information & Computer Technology, Part 2-yf22co21': 'http://apps.edu.yorku.ca/pdis/course/integration-of-information-computer-technology/integration-of-information-computer-technology-part-2/yf22co21', 'Integration Of Information & Computer Technology, Part 3 Specialist-yf22co31': 'http://apps.edu.yorku.ca/pdis/course/integration-of-information-computer-technology/integration-of-information-computer-technology-part-3-specialist/yf22co31', 'Kindergarten, Part 1-yf22kg11': 'http://apps.edu.yorku.ca/pdis/course/kindergarten/kindergarten-part-1/yf22kg11', 'Kindergarten, Part 2-yf22kg21': 'http://apps.edu.yorku.ca/pdis/course/kindergarten/kindergarten-part-2/yf22kg21', 'Kindergarten, Part 3 Specialist-yf22kg31': 'http://apps.edu.yorku.ca/pdis/course/kindergarten/kindergarten-part-3-specialist/yf22kg31', 'Teacher Librarian, Part 1-yf22lb11': 'http://apps.edu.yorku.ca/pdis/course/librarianship/teacher-librarian-part-1/yf22lb11', 'Teacher Librarian, Part 2-yf22lb21': 'http://apps.edu.yorku.ca/pdis/course/librarianship/teacher-librarian-part-2/yf22lb21', 'Teacher Librarian, Specialist-yf22lb31': 'http://apps.edu.yorku.ca/pdis/course/librarianship/teacher-librarian-specialist/yf22lb31', 'Mathematics, Grades 7 & 8-yf22ma71': 'http://apps.edu.yorku.ca/pdis/course/mathematics/mathematics-grades-7-8/yf22ma71', 'Mathematics, Primary and Junior, Part 1-yf22ma11': 'http://apps.edu.yorku.ca/pdis/course/mathematics/mathematics-primary-and-junior-part-1/yf22ma11', 'Mathematics, Primary and Junior, Part 2-yf22ma21': 'http://apps.edu.yorku.ca/pdis/course/mathematics/mathematics-primary-and-junior-part-2/yf22ma21', 'Mathematics, Primary and Junior, Part 3 Specialist-yf22ma31': 'http://apps.edu.yorku.ca/pdis/course/mathematics/mathematics-primary-and-junior-part-3-specialist/yf22ma31', \"Principal's Qualification Program, Part 1 (Independent School Focus)-pf22pis11\": 'http://apps.edu.yorku.ca/pdis/course/pqp/principals-qualification-program-part-1-independent-school-focus/pf22pis11', \"Principal's Qualification Program, Part 1-pf22pqp11\": 'http://apps.edu.yorku.ca/pdis/course/pqp/principals-qualification-program-part-1/pf22pqp11', \"Principal's Qualification Program, Part 1-pf22pqp12\": 'http://apps.edu.yorku.ca/pdis/course/pqp/principals-qualification-program-part-1/pf22pqp12', \"Principal's Qualification Program, Part 2 (Independent School Focus)-pf22pis21\": 'http://apps.edu.yorku.ca/pdis/course/pqp/principals-qualification-program-part-2-independent-school-focus/pf22pis21', \"Principal's Qualification Program, Part 2-pf22pqp21\": 'http://apps.edu.yorku.ca/pdis/course/pqp/principals-qualification-program-part-2/pf22pqp21', \"Principal's Qualification Program, Part 2-pf22pqp22\": 'http://apps.edu.yorku.ca/pdis/course/pqp/principals-qualification-program-part-2/pf22pqp22', 'Reading Part 1 – Intermediate and Senior Focus-yf22al11': 'http://apps.edu.yorku.ca/pdis/course/reading/reading-part-1-intermediate-and-senior-focus/yf22al11', 'Reading, Part 1-yf22re11': 'http://apps.edu.yorku.ca/pdis/course/reading/reading-part-1/yf22re11', 'Reading Part 2 – Intermediate and Senior Focus-yf22al21': 'http://apps.edu.yorku.ca/pdis/course/reading/reading-part-2-intermediate-and-senior-focus/yf22al21', 'Reading, Part 2-yf22re21': 'http://apps.edu.yorku.ca/pdis/course/reading/reading-part-2/yf22re21', 'Reading Part 3 Specialist – Intermediate and Senior Focus-yf22al31': 'http://apps.edu.yorku.ca/pdis/course/reading/reading-part-3-specialist-intermediate-and-senior-focus/yf22al31', 'Reading, Part 3 Specialist-yf22re31': 'http://apps.edu.yorku.ca/pdis/course/reading/reading-part-3-specialist/yf22re31', 'Alternative Education-yf22alt1': 'http://apps.edu.yorku.ca/pdis/course/schedule-c-aqs/alternative-education/yf22alt1', 'Mentoring-yf22men1': 'http://apps.edu.yorku.ca/pdis/course/schedule-c-aqs/mentoring/yf22men1', 'Student Assessment and Evaluation-yf22sae1': 'http://apps.edu.yorku.ca/pdis/course/schedule-c-aqs/student-assessment-and-evaluation/yf22sae1', 'Teaching & Learning Through E-Learning-yf22lte1': 'http://apps.edu.yorku.ca/pdis/course/schedule-c-aqs/teaching-learning-through-e-learning/yf22lte1', 'Teaching Students with Communication Needs (Autism Spectrum Disorders)-yf22tcna1': 'http://apps.edu.yorku.ca/pdis/course/schedule-c-aqs/teaching-students-with-communication-needs-autism-spectrum-disorders/yf22tcna1', 'Teaching Students with Intellectual Needs (Developmental Disability)-yf22tsin1': 'http://apps.edu.yorku.ca/pdis/course/schedule-c-aqs/teaching-students-with-intellectual-needs-developmental-disability/yf22tsin1', 'Special Education, Part 1 - Secondary Focus-yf22ssp111': 'http://apps.edu.yorku.ca/pdis/course/special-education/special-education-part-1-secondary-focus/yf22ssp111', 'Special Education, Part 1-yf22sp11': 'http://apps.edu.yorku.ca/pdis/course/special-education/special-education-part-1/yf22sp11', 'Special Education, Part 2 - Secondary Focus-yf22ssp221': 'http://apps.edu.yorku.ca/pdis/course/special-education/special-education-part-2-secondary-focus/yf22ssp221', 'Special Education, Part 2-yf22sp21': 'http://apps.edu.yorku.ca/pdis/course/special-education/special-education-part-2/yf22sp21', 'Special Education, Part 3 Specialist - Secondary Focus-yf22ssp311': 'http://apps.edu.yorku.ca/pdis/course/special-education/special-education-part-3-specialist-secondary-focus/yf22ssp311', 'Special Education, Part 3 Specialist-yf22sp31': 'http://apps.edu.yorku.ca/pdis/course/special-education/special-education-part-3-specialist/yf22sp31', 'Teaching English Language Learners, Part 1-yf22en11': 'http://apps.edu.yorku.ca/pdis/course/teaching-english-language-learners/teaching-english-language-learners-part-1/yf22en11', 'Teaching English Language Learners, Part 2-yf22en21': 'http://apps.edu.yorku.ca/pdis/course/teaching-english-language-learners/teaching-english-language-learners-part-2/yf22en21', 'Teaching English Language Learners, Part 3 Specialist-yf22en31': 'http://apps.edu.yorku.ca/pdis/course/teaching-english-language-learners/teaching-english-language-learners-part-3-specialist/yf22en31', 'Writing, Part 1-yf22wr11': 'http://apps.edu.yorku.ca/pdis/course/writing/writing-part-1/yf22wr11', 'Writing, Part 2-yf22wr21': 'http://apps.edu.yorku.ca/pdis/course/writing/writing-part-2/yf22wr21', 'Writing, Part 3 Specialist-yf22wr31': 'http://apps.edu.yorku.ca/pdis/course/writing/writing-part-3-specialist/yf22wr31'}\n"
          ]
        }
      ]
    },
    {
      "cell_type": "code",
      "source": [
        "# test section to test the term_courses dict\n",
        "for (k, v) in term_course_dict.items():\n",
        "  print(f'{k}: {v}')"
      ],
      "metadata": {
        "id": "FHIiELB3hozK"
      },
      "execution_count": null,
      "outputs": []
    },
    {
      "cell_type": "code",
      "source": [
        "# create html file with course listings\n",
        "file = './York-courses.html'\n",
        "with open(file, 'w') as f:\n",
        "  s = f'<HTML>\\n<HEAD>\\n\\t<TITLE>York Courses</TITLE>\\n</HEAD>\\n<BODY>\\n'\n",
        "  f.write(s)\n",
        "  for course, url in term_course_dict.items():\n",
        "    f.write(f'\\t<a href=\"{url}\">{course}</a><br>\\n')\n",
        "  s = '</BODY>\\n<HTML>'\n",
        "  f.write(s)\n",
        "f.close()\n",
        "print(f'{file} created.')"
      ],
      "metadata": {
        "colab": {
          "base_uri": "https://localhost:8080/"
        },
        "id": "si_Z1DmjPaBy",
        "outputId": "98652aa1-ede1-4928-94fe-4659e5ecd905"
      },
      "execution_count": null,
      "outputs": [
        {
          "output_type": "stream",
          "name": "stdout",
          "text": [
            "./York-courses.html created.\n"
          ]
        }
      ]
    }
  ]
}