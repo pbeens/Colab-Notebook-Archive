{
  "nbformat": 4,
  "nbformat_minor": 0,
  "metadata": {
    "colab": {
      "name": "Python Sort List Disregarding Case.ipynb",
      "provenance": [],
      "collapsed_sections": [],
      "authorship_tag": "ABX9TyP2WZoSsS8TeZWpZLiPPyyg",
      "include_colab_link": true
    },
    "kernelspec": {
      "name": "python3",
      "display_name": "Python 3"
    },
    "language_info": {
      "name": "python"
    }
  },
  "cells": [
    {
      "cell_type": "markdown",
      "metadata": {
        "id": "view-in-github",
        "colab_type": "text"
      },
      "source": [
        "<a href=\"https://colab.research.google.com/github/pbeens/Colab-Notebook-Archive/blob/main/Python_Sort_List_Disregarding_Case.ipynb\" target=\"_parent\"><img src=\"https://colab.research.google.com/assets/colab-badge.svg\" alt=\"Open In Colab\"/></a>"
      ]
    },
    {
      "cell_type": "markdown",
      "source": [
        "Thanks to [RealPython](https://realpython.com/lessons/reserved-keywords/) for the list of Python keywords, copied-and-pasted below."
      ],
      "metadata": {
        "id": "stmxKfBjA14F"
      }
    },
    {
      "cell_type": "markdown",
      "source": [
        "If you see any issues in this notebook, please let me know via <a href=\"mailto:feedback@beens.mozmail.com?subject=Python Sort List Disregarding Case.ipynb\">feedback@beens.mozmail.com</a>. Thanks! \n",
        "\n"
      ],
      "metadata": {
        "id": "CanEUaY5CleG"
      }
    },
    {
      "cell_type": "code",
      "execution_count": 1,
      "metadata": {
        "colab": {
          "base_uri": "https://localhost:8080/"
        },
        "id": "voGZwwuCApvo",
        "outputId": "283c5372-a903-4c85-ee41-ac923d376fdf"
      },
      "outputs": [
        {
          "output_type": "stream",
          "name": "stdout",
          "text": [
            "and as assert break class continue def del elif else except False finally for from global if import in is lambda None nonlocal not or pass raise return True try while with yield "
          ]
        }
      ],
      "source": [
        "s = \"\"\"False\tdef\tif\traise None\tdel\timport\treturn True\telif\tin\ttry\n",
        "and\telse\tis\twhile as\texcept\tlambda\twith assert\tfinally\tnonlocal\tyield\n",
        "break\tfor\tnot\tclass\tfrom\tor\tcontinue\tglobal\tpass\"\"\"\n",
        "\n",
        "# Split the word string into a list\n",
        "keywords = s.split() \n",
        "\n",
        "# Iterate through the sorted list and print each word. Note\n",
        "# the \"key = lambda s: s.casefold()\" part in sorted().\n",
        "for word in sorted(keywords, key = lambda s: s.casefold()): \n",
        "    print(word, end=' ')"
      ]
    }
  ]
}