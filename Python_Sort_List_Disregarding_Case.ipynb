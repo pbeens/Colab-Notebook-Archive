{
  "nbformat": 4,
  "nbformat_minor": 0,
  "metadata": {
    "colab": {
      "name": "Python Sort List Disregarding Case.ipynb",
      "provenance": [],
      "collapsed_sections": [],
      "authorship_tag": "ABX9TyPSsCivzbho5YtiJFJrQgZg",
      "include_colab_link": true
    },
    "kernelspec": {
      "name": "python3",
      "display_name": "Python 3"
    },
    "language_info": {
      "name": "python"
    }
  },
  "cells": [
    {
      "cell_type": "markdown",
      "metadata": {
        "id": "view-in-github",
        "colab_type": "text"
      },
      "source": [
        "<a href=\"https://colab.research.google.com/github/pbeens/Colab-Notebook-Archive/blob/main/Python_Sort_List_Disregarding_Case.ipynb\" target=\"_parent\"><img src=\"https://colab.research.google.com/assets/colab-badge.svg\" alt=\"Open In Colab\"/></a>"
      ]
    },
    {
      "cell_type": "markdown",
      "source": [
        "Thanks to [RealPython](https://realpython.com/lessons/reserved-keywords/) for the list of Python keywords, copied-and-pasted below."
      ],
      "metadata": {
        "id": "stmxKfBjA14F"
      }
    },
    {
      "cell_type": "markdown",
      "source": [
        "GitHub link: [https://github.com/pbeens/Colab-Notebook-Archive/blob/main/Python_Sort_List_Disregarding_Case.ipynb](https://github.com/pbeens/Colab-Notebook-Archive/blob/main/Python_Sort_List_Disregarding_Case.ipynb)"
      ],
      "metadata": {
        "id": "kLk3VuniFKAD"
      }
    },
    {
      "cell_type": "markdown",
      "source": [
        "If you see any issues in this notebook, please let me know via <a href=\"mailto:feedback@beens.mozmail.com?subject=Python Sort List Disregarding Case.ipynb\">feedback@beens.mozmail.com</a>. Thanks! \n",
        "\n"
      ],
      "metadata": {
        "id": "CanEUaY5CleG"
      }
    },
    {
      "cell_type": "code",
      "execution_count": 2,
      "metadata": {
        "colab": {
          "base_uri": "https://localhost:8080/"
        },
        "id": "voGZwwuCApvo",
        "outputId": "1c581b02-edd4-4337-a7e7-165959a6f4cc"
      },
      "outputs": [
        {
          "output_type": "stream",
          "name": "stdout",
          "text": [
            "and\n",
            "as\n",
            "assert\n",
            "break\n",
            "class\n",
            "continue\n",
            "def\n",
            "del\n",
            "elif\n",
            "else\n",
            "except\n",
            "False\n",
            "finally\n",
            "for\n",
            "from\n",
            "global\n",
            "if\n",
            "import\n",
            "in\n",
            "is\n",
            "lambda\n",
            "None\n",
            "nonlocal\n",
            "not\n",
            "or\n",
            "pass\n",
            "raise\n",
            "return\n",
            "True\n",
            "try\n",
            "while\n",
            "with\n",
            "yield\n"
          ]
        }
      ],
      "source": [
        "s = \"\"\"False\tdef\tif\traise None\tdel\timport\treturn True\telif\tin\ttry\n",
        "and\telse\tis\twhile as\texcept\tlambda\twith assert\tfinally\tnonlocal\tyield\n",
        "break\tfor\tnot\tclass\tfrom\tor\tcontinue\tglobal\tpass\"\"\"\n",
        "\n",
        "# Split the word string into a list\n",
        "keywords = s.split() \n",
        "\n",
        "# Iterate through the sorted list and print each word. Note\n",
        "# the \"key = lambda s: s.casefold()\" part in sorted().\n",
        "for word in sorted(keywords, key = lambda s: s.casefold()): \n",
        "    print(word)"
      ]
    }
  ]
}