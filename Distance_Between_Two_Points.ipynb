{
  "nbformat": 4,
  "nbformat_minor": 0,
  "metadata": {
    "colab": {
      "name": "Distance Between Two Points",
      "provenance": [],
      "collapsed_sections": [],
      "authorship_tag": "ABX9TyMbBY+f6VVkZHmXEoGnCeHY",
      "include_colab_link": true
    },
    "kernelspec": {
      "name": "python3",
      "display_name": "Python 3"
    },
    "language_info": {
      "name": "python"
    }
  },
  "cells": [
    {
      "cell_type": "markdown",
      "metadata": {
        "id": "view-in-github",
        "colab_type": "text"
      },
      "source": [
        "<a href=\"https://colab.research.google.com/github/pbeens/Colab-Notebook-Archive/blob/main/Distance_Between_Two_Points.ipynb\" target=\"_parent\"><img src=\"https://colab.research.google.com/assets/colab-badge.svg\" alt=\"Open In Colab\"/></a>"
      ]
    },
    {
      "cell_type": "code",
      "source": [
        "import numpy as np\n",
        "\n",
        "def dist(a, b):\n",
        "    \"\"\"Returns the distance between two points in space \n",
        "\n",
        "    Parameters:\n",
        "    a, b: (x, y, [z]) Tuples \n",
        "\n",
        "    Returns:\n",
        "    float: distance\n",
        "    \"\"\"\n",
        "    a = np.array(a)\n",
        "    b = np.array(b)\n",
        "    sum_vectors = np.sum(np.square(a - b))\n",
        "    return np.sqrt(sum_vectors)\n"
      ],
      "metadata": {
        "id": "HNb2rLeKuPQ9"
      },
      "execution_count": 1,
      "outputs": []
    },
    {
      "cell_type": "code",
      "source": [
        "point1 = (4, 3)\n",
        "point2 = (1, 1)\n",
        "\n",
        "print(dist(point1, point2))"
      ],
      "metadata": {
        "colab": {
          "base_uri": "https://localhost:8080/"
        },
        "id": "K4AdXvLuuCcA",
        "outputId": "0e3f78f5-05a2-4191-d69a-160d7f09d1ab"
      },
      "execution_count": 2,
      "outputs": [
        {
          "output_type": "stream",
          "name": "stdout",
          "text": [
            "3.605551275463989\n"
          ]
        }
      ]
    },
    {
      "cell_type": "code",
      "source": [
        "point1 = (4, 3, 21)\n",
        "point2 = (1, 1, 7)\n",
        "\n",
        "print(dist(point1, point2))"
      ],
      "metadata": {
        "colab": {
          "base_uri": "https://localhost:8080/"
        },
        "id": "O9gzqoFCvge0",
        "outputId": "89c9b19c-cf52-42b4-f687-92e4bf5f3b96"
      },
      "execution_count": 3,
      "outputs": [
        {
          "output_type": "stream",
          "name": "stdout",
          "text": [
            "14.45683229480096\n"
          ]
        }
      ]
    },
    {
      "cell_type": "code",
      "source": [
        ""
      ],
      "metadata": {
        "id": "3g-ennF7wWtv"
      },
      "execution_count": 3,
      "outputs": []
    }
  ]
}