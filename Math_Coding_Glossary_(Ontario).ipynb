{
  "nbformat": 4,
  "nbformat_minor": 0,
  "metadata": {
    "colab": {
      "name": "Math Coding Glossary (Ontario).ipynb",
      "provenance": [],
      "toc_visible": true,
      "authorship_tag": "ABX9TyNcS6LcQYvrM8/MXmK2O6/J",
      "include_colab_link": true
    },
    "kernelspec": {
      "name": "python3",
      "display_name": "Python 3"
    },
    "language_info": {
      "name": "python"
    }
  },
  "cells": [
    {
      "cell_type": "markdown",
      "metadata": {
        "id": "view-in-github",
        "colab_type": "text"
      },
      "source": [
        "<a href=\"https://colab.research.google.com/github/pbeens/Colab-Notebook-Archive/blob/main/Math_Coding_Glossary_(Ontario).ipynb\" target=\"_parent\"><img src=\"https://colab.research.google.com/assets/colab-badge.svg\" alt=\"Open In Colab\"/></a>"
      ]
    },
    {
      "cell_type": "markdown",
      "source": [
        "These keywords are taken from the [Ontario Elementary Math curriculum](https://www.dcp.edu.gov.on.ca/en/curriculum/elementary-mathematics/glossary). The secondary curriculum only has two coding references — \"coding\" and \"variables\", which are already included below.\n",
        "\n",
        "A Google Doc of this information (without my comments) can be found [here](https://docs.google.com/document/d/1FqWQ2FB9jUTXReKJc8yITG0zz2471Am3Aa7EBnB5CaM/edit).\n",
        "\n",
        "This notebook is also available in my Colab Notebook Archive repository on GitHub [here](https://github.com/pbeens/Colab-Notebook-Archive/blob/main/Math_Coding_Glossary_(Ontario).ipynb).\n",
        "\n",
        "If you spot any errors or have any recommendations, please email them to me at <a href=\"mailto:feedback@beens.mozmail.com?subject=Math Coding Glossary (Ontario).ipynb\">feedback@beens.mozmail.com</a>. Thanks!\n",
        "\n",
        "Notes: \n",
        "\n",
        "* This is a work in progress and the latest version can always be found [here](https://colab.research.google.com/drive/1fVHVrxx4UamOBCL_aA0R1W02R_2cJJfT).\n",
        "* The interactive programming examples are written in Python.\n",
        "\n",
        "-Peter Beens"
      ],
      "metadata": {
        "id": "ZgFGa5fsXX3J"
      }
    },
    {
      "cell_type": "markdown",
      "source": [
        "---"
      ],
      "metadata": {
        "id": "xZAw1KMnBGum"
      }
    },
    {
      "cell_type": "markdown",
      "source": [
        "##B"
      ],
      "metadata": {
        "id": "WjfYEW7kBNgT"
      }
    },
    {
      "cell_type": "markdown",
      "source": [
        "**block-based programming (coding)**\n",
        "\n",
        "A way of programming a computer or other device in which executable actions are organized into blocks that can be clicked, dragged, altered, and connected to other blocks. This is sometimes referred to as visual programming. See also text-based programming.\n",
        "\n",
        "---\n",
        "\n",
        "[Scratch](https://scratch.mit.edu/) *is probably the most popular example of a block-based programming language in schools, particularly K-8.* [App Inventor](https://appinventor.mit.edu/) *is also very popular, but moreso in secondary schools.\n",
        "\n",
        "[<img src=\"https://github.com/pbeens/Images/raw/main/math-presentations/Scratch_2.0_Screen_Hello_World.png\" width=200>](https://github.com/pbeens/Images/raw/main/math-presentations/Scratch_2.0_Screen_Hello_World.png)\n",
        "\n",
        "*(click to enlarge)*"
      ],
      "metadata": {
        "id": "XzXZfeBdXiOl"
      }
    },
    {
      "cell_type": "markdown",
      "source": [
        "##C"
      ],
      "metadata": {
        "id": "H-rCrfBxBRiv"
      }
    },
    {
      "cell_type": "markdown",
      "source": [
        "**coding**\n",
        "\n",
        "The process of writing computer programming instructions."
      ],
      "metadata": {
        "id": "3NVW1kMPXuQ3"
      }
    },
    {
      "cell_type": "markdown",
      "source": [
        "**concurrent events (coding)**\n",
        "\n",
        "Two or more events that occur at the same time. See also sequential events (coding).\n",
        "\n",
        "---\n",
        "\n",
        "*I assume they are referring to a program where where numerous different events could happen to an object, such as touch another object, move to a specific location, etc.*\n",
        "\n",
        "*I don't think they are referring to [Concurrent Computing](https://en.wikipedia.org/wiki/Concurrent_computing), which means \"several computations are executed concurrently—during overlapping time periods—instead of sequentially\"*"
      ],
      "metadata": {
        "id": "2AFRipEtXwM3"
      }
    },
    {
      "cell_type": "markdown",
      "source": [
        "**conditional statement (coding)**\n",
        "\n",
        "A type of coding instruction used to compare values and express and make decisions. A conditional statement tells a program to execute an action depending on whether a condition is true or false. It is often represented as an if-then or if-then-else statement."
      ],
      "metadata": {
        "id": "yhyHaPfjXyRU"
      }
    },
    {
      "cell_type": "code",
      "source": [
        "grade = 92\n",
        "if grade >= 80:\n",
        "    print('A')\n",
        "else:\n",
        "    print('Not an A')"
      ],
      "metadata": {
        "id": "yB2DevgRjPNU"
      },
      "execution_count": null,
      "outputs": []
    },
    {
      "cell_type": "markdown",
      "source": [
        "**control structure (coding)**\n",
        "\n",
        "A line or block of code that influences the order in which other code is executed. Control structures affect the flow of the program and include sequencing lines of code, repeating lines of code (loops), or selection to execute or not execute specific lines of code (conditional statements). Sequence, repetition, and selection are all control structures. See also execute."
      ],
      "metadata": {
        "id": "gM7lJdQ_X0Rt"
      }
    },
    {
      "cell_type": "markdown",
      "source": [
        "##D"
      ],
      "metadata": {
        "id": "y-xC5S7_BT8X"
      }
    },
    {
      "cell_type": "markdown",
      "source": [
        "**debugging (coding)**\n",
        "\n",
        "The process of finding and fixing errors (known as “bugs”) in a computer program.\n",
        "\n",
        "---\n",
        "\n",
        "*Debugging involves many techniques, depending on the problem. Often the error message will give us enough clues to find the error. Sometime we print intermediate values or messages to the screen. One my favourite techniques is to use a* [visualizer](https://pythontutor.com/visualize.html#code=a%20%3D%202%0Ab%20%3D%203%0Ac%20%3D%20a%20*%20b%0Ac%20%2B%3D%201%0Ad%20%3D%20c%20**%202%0Amsg%20%3D%20'The%20answer%20is'%0Aprint%28msg,%20d%29&cumulative=false&curInstr=0&heapPrimitives=nevernest&mode=display&origin=opt-frontend.js&py=3&rawInputLstJSON=%5B%5D&textReferences=false) *to step through a program line-by-line.*"
      ],
      "metadata": {
        "id": "epXrcZLsX2oR"
      }
    },
    {
      "cell_type": "code",
      "source": [
        "# This code gives an error. Can you fix it?\n",
        "# print('Hello world)"
      ],
      "metadata": {
        "id": "MiDoaEcajqW0"
      },
      "execution_count": null,
      "outputs": []
    },
    {
      "cell_type": "markdown",
      "source": [
        "**defined count (coding)**\n",
        "\n",
        "In coding, the number of times instructions are repeated based on a predefined value or until a condition has been met.\n",
        "\n",
        "---\n",
        "\n",
        "*A for loop is often used for this. You could also use a while loop with a counter or some or a conditional (\"if\") statement.*"
      ],
      "metadata": {
        "id": "VXeTH3LzX6sd"
      }
    },
    {
      "cell_type": "code",
      "source": [
        "print(\"For loop\")\n",
        "for i in range(3):\n",
        "    print(i + 1)\n",
        "\n",
        "print(\"While loop\")\n",
        "count = 1\n",
        "while count < 4:\n",
        "    print(count)\n",
        "    count = count + 1"
      ],
      "metadata": {
        "id": "jtRSATKTk0O4"
      },
      "execution_count": null,
      "outputs": []
    },
    {
      "cell_type": "markdown",
      "source": [
        "##E"
      ],
      "metadata": {
        "id": "uJqxqeU2BWL2"
      }
    },
    {
      "cell_type": "markdown",
      "source": [
        "**efficient code (coding)**\n",
        "\n",
        "Code that uses the lowest number of instructions to accomplish a task, thereby minimizing storage space and execution time.\n",
        "\n",
        "---\n",
        "\n",
        "*Consider these two Turtle Graphics coding examples that draw a square. Which is more efficient?*\n",
        "\n",
        "[<img src=\"https://github.com/pbeens/Images/raw/main/math-presentations/turtle-square-1.png\" width=100>](https://github.com/pbeens/Images/raw/main/math-presentations/turtle-square-1.png)\n",
        "\n",
        "[<img src=\"https://github.com/pbeens/Images/raw/main/math-presentations/turtle-square-2.png\" width=125>](https://github.com/pbeens/Images/raw/main/math-presentations/turtle-square-2.png)\n",
        "\n",
        "*(click to enlarge)*"
      ],
      "metadata": {
        "id": "Dp_3kfh0X87n"
      }
    },
    {
      "cell_type": "markdown",
      "source": [
        "##F"
      ],
      "metadata": {
        "id": "M9Q4CDDxBXdS"
      }
    },
    {
      "cell_type": "markdown",
      "source": [
        "**flow chart**\n",
        "\n",
        "A type of diagram that shows the sequence of steps involved in performing an algorithm. In coding, specific symbols are used to indicate different control structures in the algorithm (e.g., an input is written in a parallelogram; a process is written using a rectangle). See also algorithm, coding, control structure, parallelogram.\n",
        "\n",
        "<center><img src=\"https://raw.githubusercontent.com/pbeens/Images/main/math-presentations/equations_flowchart.svg\" width=\"250\"></center>\n",
        "\n",
        "Flow chart to simulate a coin flip:\n",
        "\n",
        "<center><img src=\"https://raw.githubusercontent.com/pbeens/Images/main/math-presentations/flowchart_coding.svg\" width=\"300\"></center>\n",
        "\n",
        "---\n",
        "\n",
        "*Note: Flowcharting is not as popular as it once  was. Most professional programmers lean towards the use of pseudocode instead.*"
      ],
      "metadata": {
        "id": "Iknqgx8AX_jQ"
      }
    },
    {
      "cell_type": "markdown",
      "source": [
        "**function (coding)**\n",
        "\n",
        "A small section of code that performs a single task and returns a value back to the main program. See also code, subprogram."
      ],
      "metadata": {
        "id": "lfkP7bd7acMv"
      }
    },
    {
      "cell_type": "code",
      "source": [
        "def n_squared(n):\n",
        "    return n**2\n",
        "\n",
        "print(n_squared(2))"
      ],
      "metadata": {
        "id": "rd5Jc1H9sP45"
      },
      "execution_count": null,
      "outputs": []
    },
    {
      "cell_type": "markdown",
      "source": [
        "##I"
      ],
      "metadata": {
        "id": "lIqlVli3BZH_"
      }
    },
    {
      "cell_type": "markdown",
      "source": [
        "**input (coding)**\n",
        "\n",
        "Information or instructions that are entered into a computer or device; the act of doing so."
      ],
      "metadata": {
        "id": "24msK_GIadTd"
      }
    },
    {
      "cell_type": "code",
      "source": [
        "name = input('What is your name? ')\n",
        "print(name)"
      ],
      "metadata": {
        "id": "A96J1RWVs3XY"
      },
      "execution_count": null,
      "outputs": []
    },
    {
      "cell_type": "markdown",
      "source": [
        "##L"
      ],
      "metadata": {
        "id": "k-H6fgr-Bawk"
      }
    },
    {
      "cell_type": "markdown",
      "source": [
        "**loop (coding)**\n",
        "\n",
        "A computer programming control structure that allows for a sequence of instructions to be repeated while, or until, a condition is met."
      ],
      "metadata": {
        "id": "RsLE57ZSafVU"
      }
    },
    {
      "cell_type": "code",
      "source": [
        "for i in range(4):\n",
        "    print('This is a loop!')"
      ],
      "metadata": {
        "id": "ZCS_ymcStDPq"
      },
      "execution_count": null,
      "outputs": []
    },
    {
      "cell_type": "markdown",
      "source": [
        "##N"
      ],
      "metadata": {
        "id": "A6P66PbqBcMu"
      }
    },
    {
      "cell_type": "markdown",
      "source": [
        "**nested events (coding)**\n",
        "\n",
        "Control structures that are placed inside other control structures; for example, loops occurring inside other loops, or a conditional statement being evaluated inside a loop. See also control structure (coding)."
      ],
      "metadata": {
        "id": "2hUxxMcWakyX"
      }
    },
    {
      "cell_type": "code",
      "source": [
        "# nested loop example\n",
        "for i in range(1, 13):\n",
        "    for j in range(1, 13):\n",
        "        print(f'{i * j:4}', end='')\n",
        "    print()"
      ],
      "metadata": {
        "id": "TAyagAA8tNYg"
      },
      "execution_count": null,
      "outputs": []
    },
    {
      "cell_type": "markdown",
      "source": [
        "##O"
      ],
      "metadata": {
        "id": "GI4XgS2FBdyP"
      }
    },
    {
      "cell_type": "markdown",
      "source": [
        "**outcome (coding)**\n",
        "\n",
        "The result of code processed by a computer or device, which may include data on the screen or movement of a robot.\n",
        "\n",
        "*We normally refer to this as output, not outcome.*"
      ],
      "metadata": {
        "id": "BJVR9wWQal28"
      }
    },
    {
      "cell_type": "markdown",
      "source": [
        "**output (coding)**\n",
        "\n",
        "See outcome (coding).\n",
        "\n",
        "---\n",
        "\n",
        "*We often refer to the output as what comes out of the program or program statement. It could be something on the screen, a beep, a movement of a robot arm, etc.).*\n",
        "\n",
        "*Do not use the term \"outcome\".*"
      ],
      "metadata": {
        "id": "peoRLYMTanzB"
      }
    },
    {
      "cell_type": "markdown",
      "source": [
        "##P"
      ],
      "metadata": {
        "id": "RRDhJy-_BfEo"
      }
    },
    {
      "cell_type": "markdown",
      "source": [
        "**pixelated image (coding)**\n",
        "\n",
        "In programming, a graphical figure that can be moved about a screen by programming actions.\n",
        "\n",
        "---\n",
        "\n",
        "*Hah, this makes no sense. A pixelated image looks like this, and has nothing to do with being moved around the screen by programming actions.*\n",
        "\n",
        "[<img src=\"https://github.com/pbeens/Images/raw/main/math-presentations/Girl_with_a_Pearl_Earring_(pixelated).jpg\" width=100>](https://github.com/pbeens/Images/raw/main/math-presentations/Girl_with_a_Pearl_Earring_(pixelated).jpg)\n",
        "\n",
        "*(click to enlarge)*"
      ],
      "metadata": {
        "id": "Sh410uzQaqOG"
      }
    },
    {
      "cell_type": "markdown",
      "source": [
        "**pseudocode (coding)**\n",
        "\n",
        "An informal way of describing a computer program or algorithm that is an intermediary between everyday language and programming code. Pseudocode is often used before actual coding to explain the design process in a less technical way (e.g., fwd 10 steps, rt 45 degrees, bkwds 4 steps)."
      ],
      "metadata": {
        "id": "3kqEZZnlauvv"
      }
    },
    {
      "cell_type": "markdown",
      "source": [
        "##R"
      ],
      "metadata": {
        "id": "qAC-hUq3BgrR"
      }
    },
    {
      "cell_type": "markdown",
      "source": [
        "**relational operators (coding)**\n",
        "\n",
        "Symbols used in computer programming to test or define a relationship between two things (e.g., >, <, >=, <=, == (equal to), != (not equal to))."
      ],
      "metadata": {
        "id": "1TTp5Wn1axOE"
      }
    },
    {
      "cell_type": "markdown",
      "source": [
        "**repeating event (coding)**\n",
        "\n",
        "Something that happens over and over again. In coding, loops are used to repeat instructions. See also loop (coding)."
      ],
      "metadata": {
        "id": "PlzJX8hPazQ1"
      }
    },
    {
      "cell_type": "code",
      "source": [
        "for i in range(4):\n",
        "    print('This is a loop!')"
      ],
      "metadata": {
        "id": "MWxkr5c76sAv"
      },
      "execution_count": null,
      "outputs": []
    },
    {
      "cell_type": "markdown",
      "source": [
        "##S"
      ],
      "metadata": {
        "id": "Q2__il81Bh-0"
      }
    },
    {
      "cell_type": "markdown",
      "source": [
        "**sequential events (coding)**\n",
        "\n",
        "A set of instructions carried out one after another, usually top to bottom or left to right on a screen. See also concurrent events (coding)."
      ],
      "metadata": {
        "id": "k74SbGgza1qu"
      }
    },
    {
      "cell_type": "code",
      "source": [
        "import math\n",
        "print('Hi')\n",
        "print('How are you?')\n",
        "print('2 squared =', 2**2)\n",
        "print('Pi =', math.pi)"
      ],
      "metadata": {
        "id": "EAerbD3Z6v90"
      },
      "execution_count": null,
      "outputs": []
    },
    {
      "cell_type": "markdown",
      "source": [
        "**subprogram (coding)**\n",
        "\n",
        "A small set of instructions for completing one small task. Subprograms can be combined in a main program to accomplish a large task using small steps."
      ],
      "metadata": {
        "id": "0Ep7sT8Ia3r1"
      }
    },
    {
      "cell_type": "code",
      "source": [
        "def n_squared(n):\n",
        "    return n**2\n",
        "\n",
        "print(n_squared(2))"
      ],
      "metadata": {
        "id": "9ezGuKAb7QHI"
      },
      "execution_count": null,
      "outputs": []
    },
    {
      "cell_type": "markdown",
      "source": [
        "##T"
      ],
      "metadata": {
        "id": "wdLksmyABjdq"
      }
    },
    {
      "cell_type": "markdown",
      "source": [
        "**text-based programming (coding)**\n",
        "\n",
        "A way of programming a computer or electronic device that involves typing out programming code instructions in the specific syntax of the programming language being used. See also block-based programming.\n",
        "\n",
        "---\n",
        "\n",
        "*Python is a popular text-based programming language for students and is the language used here in [Google Colab](https://colab.research.google.com/).*\n",
        "\n",
        "*Other popular text-based languages are Javascript and C. Javascript is used a lot for web-based programming and C is often used for operating systems, like Windows*\n",
        "\n",
        "*Want to learn more about what programming languages are out there? Check out https://en.wikipedia.org/wiki/History_of_programming_languages.*"
      ],
      "metadata": {
        "id": "JC8nnyxHa5ur"
      }
    },
    {
      "cell_type": "markdown",
      "source": [
        "##U"
      ],
      "metadata": {
        "id": "L7_iaYcnBk89"
      }
    },
    {
      "cell_type": "markdown",
      "source": [
        "**unplugged code (coding)**\n",
        "\n",
        "A set of instructions that can be performed without the use of a computer or device. Usually used to support the learning of writing and executing code.\n",
        "\n",
        "---\n",
        "\n",
        "[CS Unplugged](https://www.csunplugged.org/en/) *is a fantastic website for learning about programming concepts without the use of computers. Check it out!*"
      ],
      "metadata": {
        "id": "0M3qPuRha7eC"
      }
    },
    {
      "cell_type": "markdown",
      "source": [
        "##V"
      ],
      "metadata": {
        "id": "IlYRmK10BnJg"
      }
    },
    {
      "cell_type": "markdown",
      "source": [
        "**variable**\n",
        "\n",
        "A symbol, letter or words representing a value that can vary depending on the context. For example, in an equation x + y = 3, if the variable x changes, the value of variable y will change accordingly. In coding, words are often used instead of a letter, such as FirstNumber + SecondNumber = 3. In coding, a variable is a temporary storage location for data such as a numerical value or a series of characters, and the values stored in that location vary depending on the commands given by the program. In a data set, a variable such as height may take on a different value for each member of a population.\n",
        "\n",
        "---\n",
        "\n",
        "<img src=\"https://raw.githubusercontent.com/pbeens/Images/main/other/programming-variable.svg\" width=\"200\" border=\"2\">"
      ],
      "metadata": {
        "id": "Op1SY2f9a9se"
      }
    },
    {
      "cell_type": "code",
      "source": [
        "# These are variables\n",
        "number = 3\n",
        "name = 'Peter'\n",
        "address = '123 Anywhere St'\n",
        "city = 'Halifax'\n",
        "x = 2\n",
        "y = 3 - x\n"
      ],
      "metadata": {
        "id": "oMtRZ06IMuQI"
      },
      "execution_count": null,
      "outputs": []
    }
  ]
}