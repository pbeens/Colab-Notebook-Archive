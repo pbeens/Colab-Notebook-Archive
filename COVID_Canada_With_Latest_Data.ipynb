{
  "nbformat": 4,
  "nbformat_minor": 0,
  "metadata": {
    "colab": {
      "provenance": [],
      "authorship_tag": "ABX9TyPond7kZuzMdn7iOrM4WkUX",
      "include_colab_link": true
    },
    "kernelspec": {
      "name": "python3",
      "display_name": "Python 3"
    },
    "language_info": {
      "name": "python"
    }
  },
  "cells": [
    {
      "cell_type": "markdown",
      "metadata": {
        "id": "view-in-github",
        "colab_type": "text"
      },
      "source": [
        "<a href=\"https://colab.research.google.com/github/pbeens/Colab-Notebook-Archive/blob/main/COVID_Canada_With_Latest_Data.ipynb\" target=\"_parent\"><img src=\"https://colab.research.google.com/assets/colab-badge.svg\" alt=\"Open In Colab\"/></a>"
      ]
    },
    {
      "cell_type": "code",
      "execution_count": null,
      "metadata": {
        "id": "t2enr12J0dd-"
      },
      "outputs": [],
      "source": [
        "# import the libraries we need\n",
        "\n",
        "import pandas as pd\n",
        "import matplotlib.pyplot as plt"
      ]
    },
    {
      "cell_type": "code",
      "source": [
        "# download the latest CSV file from health-infobase.canada.ca\n",
        "\n",
        "!wget -q https://health-infobase.canada.ca/src/data/covidLive/covid19-download.csv"
      ],
      "metadata": {
        "id": "5YauoXFpIYrn"
      },
      "execution_count": null,
      "outputs": []
    },
    {
      "cell_type": "code",
      "source": [
        "# read in the data and assign to dataframe named 'df'\n",
        "\n",
        "df = pd.read_csv('/content/covid19-download.csv')"
      ],
      "metadata": {
        "id": "4_ll6_Sq0twL"
      },
      "execution_count": null,
      "outputs": []
    },
    {
      "cell_type": "code",
      "source": [
        "# display the first five records\n",
        "\n",
        "df.head()"
      ],
      "metadata": {
        "id": "rHNDJmxbI-Ld"
      },
      "execution_count": null,
      "outputs": []
    },
    {
      "cell_type": "code",
      "source": [
        "# What columns of data are there?\n",
        "# We use 'tolist()' when there are lots of columns\n",
        "\n",
        "df.columns.tolist()"
      ],
      "metadata": {
        "id": "peUZS84p8LJk"
      },
      "execution_count": null,
      "outputs": []
    },
    {
      "cell_type": "code",
      "source": [
        "# Check the province names (English column)\n",
        "\n",
        "df['prname'].unique()"
      ],
      "metadata": {
        "id": "4WGupcj-05wq"
      },
      "execution_count": null,
      "outputs": []
    },
    {
      "cell_type": "code",
      "source": [
        "# create filter — we only want Ontario\n",
        "filt = (df['prname'] == 'Ontario') \n",
        "\n",
        "# apply the filter\n",
        "# note the new dataframe name\n",
        "df_Ontario = df.loc[filt] \n",
        "\n",
        "# we only care about two columns\n",
        "df_Ontario = df_Ontario.loc[:,['date','avgdeaths_last7']]\n",
        "\n",
        "# check some random records\n",
        "df_Ontario.sample(10)"
      ],
      "metadata": {
        "id": "H4lYjyVs7oey"
      },
      "execution_count": null,
      "outputs": []
    },
    {
      "cell_type": "code",
      "source": [
        "# Look at last 5 records to see how current data are\n",
        "df_Ontario.tail(5)"
      ],
      "metadata": {
        "id": "ykrUEyKN8dC9"
      },
      "execution_count": null,
      "outputs": []
    },
    {
      "cell_type": "code",
      "source": [
        "# Line plot of the data\n",
        "\n",
        "df_Ontario.plot(kind = 'line', \n",
        "                x = 'date', \n",
        "                y = 'avgdeaths_last7',\n",
        "                rot=60,\n",
        "                legend=False,\n",
        "                title='COVID Death Rate — Ontario',\n",
        "                xlabel='',\n",
        "                ylabel='Deaths/100k/Week')\n",
        "plt.savefig('death-rate-Ontario.png', format='png') # save the image\n",
        "plt.show() # plot the image on the screen"
      ],
      "metadata": {
        "id": "jjl5JeXd80nN"
      },
      "execution_count": null,
      "outputs": []
    },
    {
      "cell_type": "code",
      "source": [],
      "metadata": {
        "id": "JfxCGrOhFvLY"
      },
      "execution_count": null,
      "outputs": []
    }
  ]
}