{
  "nbformat": 4,
  "nbformat_minor": 0,
  "metadata": {
    "colab": {
      "name": "Math in Python (Demo, Ties to Curriculum, Resources) August 2021.ipynb",
      "provenance": [],
      "collapsed_sections": [
        "OTH6Uqvyijrt",
        "nma-B9alipbD",
        "JTtw68NTEKlD",
        "BpqQyK30Nsn0",
        "Iv54b7gOt7VG",
        "uxTR4p7B2wsz",
        "BOaNdkK57BvR",
        "O8AROybBveWL",
        "b1Oe5Nyt7_Wm",
        "_Tl0PRK4uWz8",
        "StPLSdE9eQTu",
        "3Eb26H_xNXpY",
        "SKcpkuu6oIoz",
        "-TAuiN39WJuk",
        "vlweIFQsuMAb",
        "LnGb96otuHjI",
        "ZCMsZ29rRC0p",
        "U6XFmkOakDb2"
      ],
      "authorship_tag": "ABX9TyNE9WE/B5VcHaLBra8FYm6J",
      "include_colab_link": true
    },
    "kernelspec": {
      "name": "python3",
      "display_name": "Python 3"
    },
    "language_info": {
      "name": "python"
    }
  },
  "cells": [
    {
      "cell_type": "markdown",
      "metadata": {
        "id": "view-in-github",
        "colab_type": "text"
      },
      "source": [
        "<a href=\"https://colab.research.google.com/github/pbeens/Colab-Notebook-Archive/blob/main/Math_in_Python_(Demo%2C_Ties_to_Curriculum%2C_Resources)_August_2021.ipynb\" target=\"_parent\"><img src=\"https://colab.research.google.com/assets/colab-badge.svg\" alt=\"Open In Colab\"/></a>"
      ]
    },
    {
      "cell_type": "markdown",
      "metadata": {
        "id": "OTH6Uqvyijrt"
      },
      "source": [
        "## Introduction"
      ]
    },
    {
      "cell_type": "markdown",
      "metadata": {
        "id": "bTYghaHeg7u_"
      },
      "source": [
        "This demo has been created for grade 8-9 Math teachers in Ontario looking to integrate coding into the classroom. \n",
        "\n",
        "Date: August 12, 2021<br>\n",
        "Presenter: Peter Beens<br>\n",
        "Email: pbeens at gmail dot com<br>\n",
        "Twitter: [@pbeens](https://twitter.com/pbeens)\n",
        "\n",
        "The purpose of the notebook is to \n",
        "\n",
        "1. Introduce Google Colab as a tool for Python programming\n",
        "2. Demo Python from the point of view of a math teacher (i.e., only Python basics and concepts related to math)\n",
        "3. Share resources that are worth further investigation\n",
        "\n",
        "The Concepts and Skills listed were brainstormed by the teachers from the respective curricula and shared via a Jamboard here: http://bit.ly/otf-math-coding-jamboard. \n",
        "\n",
        "The URL of this notebook in Peter's Presentations repository on GitHub is http://bit.ly/math-python-notebook-github.\n",
        "\n",
        "The URL of this notebook on Google Colab is http://bit.ly/math-python-notebook-colab.\n",
        "\n",
        "The URL for the Python resources in our Links document is https://bit.ly/2VHWjGk."
      ]
    },
    {
      "cell_type": "markdown",
      "metadata": {
        "id": "nma-B9alipbD"
      },
      "source": [
        "## Demo - Overview of Colab"
      ]
    },
    {
      "cell_type": "markdown",
      "metadata": {
        "id": "ZPO1W5qwisVk"
      },
      "source": [
        "* Table of Contents\n",
        "* Types of Cells\n",
        "* Use of Markdown in Text Cells\n",
        "* Executing Cells\n",
        "* Overview of Main Menu\n",
        "* Inserting Cells\n",
        "* Accessing Your Google Drive\n",
        "* Caution about Importing Files"
      ]
    },
    {
      "cell_type": "markdown",
      "metadata": {
        "id": "JTtw68NTEKlD"
      },
      "source": [
        "## Quick Overview of Coding Terminogy"
      ]
    },
    {
      "cell_type": "markdown",
      "metadata": {
        "id": "6Gf_IUf_EVfK"
      },
      "source": [
        "https://www.dcp.edu.gov.on.ca/en/curriculum/elementary-mathematics/glossary\n",
        "\n",
        "Show more > Expand all\n",
        "\n",
        "Search for “coding”\n"
      ]
    },
    {
      "cell_type": "markdown",
      "metadata": {
        "id": "BpqQyK30Nsn0"
      },
      "source": [
        "## Quick Intro to EduBlocks"
      ]
    },
    {
      "cell_type": "markdown",
      "metadata": {
        "id": "b_Z-xrUcNy6q"
      },
      "source": [
        "A block-based approach to learning Python: https://staging.edublocks.org/"
      ]
    },
    {
      "cell_type": "markdown",
      "metadata": {
        "id": "Iv54b7gOt7VG"
      },
      "source": [
        "## Python Basics: Number Types"
      ]
    },
    {
      "cell_type": "markdown",
      "metadata": {
        "id": "3jHbOZ7-NhmL"
      },
      "source": [
        "**Concepts and Skills**\n",
        "* Grade 8 Concept: Integers\n",
        "* Grade 8 Skill: Using a Variable\n",
        "* Grade 9 Skill: Introducing Variables\n",
        "* Grade 9 Skill: Substituting Values for Variables\n",
        "\n"
      ]
    },
    {
      "cell_type": "markdown",
      "metadata": {
        "id": "ZI62rY19mYgM"
      },
      "source": [
        "**Prerequisite Knowledge**\n",
        "\n",
        "Variables are containers for storing data values. Variables can be numeric such as int or float, strings (characters), or more complex such as lists, tuples, and dictionaries. The more complex variables will not be covered here.\n",
        "\n",
        "The `type()` function tells us what type of variable a variable is. \n",
        "\n"
      ]
    },
    {
      "cell_type": "code",
      "metadata": {
        "id": "8woCGDzr0zsv"
      },
      "source": [
        "# integer\n",
        "a = 1\n",
        "print(a)\n",
        "print(type(a))"
      ],
      "execution_count": null,
      "outputs": []
    },
    {
      "cell_type": "code",
      "metadata": {
        "id": "CGLcmqK_1TSz"
      },
      "source": [
        "# float\n",
        "b = 2.1\n",
        "print(b)\n",
        "print(type(b))"
      ],
      "execution_count": null,
      "outputs": []
    },
    {
      "cell_type": "code",
      "metadata": {
        "id": "GstGx0bR1nXn"
      },
      "source": [
        "# complex (not for grades 8-9!)\n",
        "c = 2 + 6.j\n",
        "print(c)\n",
        "print(type(c))"
      ],
      "execution_count": null,
      "outputs": []
    },
    {
      "cell_type": "code",
      "metadata": {
        "id": "w5aMfqNn2Vf6"
      },
      "source": [
        "# complex (2nd method)\n",
        "c1 = complex(3,6)\n",
        "print(c1)"
      ],
      "execution_count": null,
      "outputs": []
    },
    {
      "cell_type": "markdown",
      "metadata": {
        "id": "r_ftnmx729G_"
      },
      "source": [
        "Further reading for complex types: https://www.tutorialspoint.com/complex-numbers-in-python"
      ]
    },
    {
      "cell_type": "markdown",
      "metadata": {
        "id": "uxTR4p7B2wsz"
      },
      "source": [
        "## Python Basics: Math Operators"
      ]
    },
    {
      "cell_type": "markdown",
      "metadata": {
        "id": "ZmhZG4t2N4Y3"
      },
      "source": [
        "**Concepts and Skills**\n",
        "* Grade 8 Skill: Multiplying Integers\n",
        "* Grade 9 Concept: Exponents"
      ]
    },
    {
      "cell_type": "code",
      "metadata": {
        "id": "PCJd3NhV20gr"
      },
      "source": [
        "# addition\n",
        "print(7 + 3)"
      ],
      "execution_count": null,
      "outputs": []
    },
    {
      "cell_type": "code",
      "metadata": {
        "id": "jSy-3Jki3LR1"
      },
      "source": [
        "# subtraction\n",
        "print(7 - 3)"
      ],
      "execution_count": null,
      "outputs": []
    },
    {
      "cell_type": "code",
      "metadata": {
        "id": "QErkmxj93NaW"
      },
      "source": [
        "# multiplication\n",
        "print(7 * 3)"
      ],
      "execution_count": null,
      "outputs": []
    },
    {
      "cell_type": "code",
      "metadata": {
        "id": "jjoMrpLo3QzN"
      },
      "source": [
        "# division\n",
        "print(7 / 3)"
      ],
      "execution_count": null,
      "outputs": []
    },
    {
      "cell_type": "code",
      "metadata": {
        "id": "ytcyTUOz3SJ7"
      },
      "source": [
        "# floor division\n",
        "print(7 // 3)\n",
        "print(-7 // 3) # be careful with negatives - rounds away from zero"
      ],
      "execution_count": null,
      "outputs": []
    },
    {
      "cell_type": "code",
      "metadata": {
        "id": "0OfIwZT13URB"
      },
      "source": [
        "# modulus (remainder)\n",
        "print(7 % 3)"
      ],
      "execution_count": null,
      "outputs": []
    },
    {
      "cell_type": "code",
      "metadata": {
        "id": "uXaR-RwX38LP"
      },
      "source": [
        "# exponentiation\n",
        "print(2**3)\n",
        "print(9**.5) # sqrt\n",
        "print(27**(1/3)) # cube root - note order of operations"
      ],
      "execution_count": null,
      "outputs": []
    },
    {
      "cell_type": "markdown",
      "metadata": {
        "id": "BOaNdkK57BvR"
      },
      "source": [
        "## Python Basics: Order of Operations (PEMDAS)"
      ]
    },
    {
      "cell_type": "markdown",
      "metadata": {
        "id": "VJjkfl47Okiw"
      },
      "source": [
        "**Concepts and Skills**\n",
        "* Grade 8-9 Skill: Follow Order of Operations"
      ]
    },
    {
      "cell_type": "code",
      "metadata": {
        "id": "xzDanadd7GYL"
      },
      "source": [
        "print(1 + 4 * 3 / 2)"
      ],
      "execution_count": null,
      "outputs": []
    },
    {
      "cell_type": "code",
      "metadata": {
        "id": "_OQrX_r17jAE"
      },
      "source": [
        "print((1 + 4) * 3 / 2)"
      ],
      "execution_count": null,
      "outputs": []
    },
    {
      "cell_type": "markdown",
      "metadata": {
        "id": "O8AROybBveWL"
      },
      "source": [
        "## Python Basics: Getting Input from the Keyboard"
      ]
    },
    {
      "cell_type": "markdown",
      "metadata": {
        "id": "BLNHhqT3PSyw"
      },
      "source": [
        "**Concepts and Skills**\n",
        "* Grade 8-9 Skill: Using a Variable\n",
        "* Grade 8-9 Skill: Problem Solving\n",
        "* Grade 9 Concept: Building Models"
      ]
    },
    {
      "cell_type": "code",
      "metadata": {
        "id": "7JNg3JPUvh--",
        "outputId": "cb1ed5ab-b157-44b4-dc82-577ef7a34d77",
        "colab": {
          "base_uri": "https://localhost:8080/"
        }
      },
      "source": [
        "# values input'd are always strings (characters)\n",
        "n = input('Enter a number: ')\n",
        "print(type(n))"
      ],
      "execution_count": null,
      "outputs": [
        {
          "output_type": "stream",
          "name": "stdout",
          "text": [
            "Enter a number: 2.3\n",
            "<class 'str'>\n"
          ]
        }
      ]
    },
    {
      "cell_type": "code",
      "metadata": {
        "id": "boZZm64yvvwS"
      },
      "source": [
        "# let's convert to an integer\n",
        "n = input('Enter a number: ')\n",
        "n = int(n)\n",
        "print(type(n))"
      ],
      "execution_count": null,
      "outputs": []
    },
    {
      "cell_type": "code",
      "metadata": {
        "id": "Xzo7J5jvv-GR"
      },
      "source": [
        "# conventionally, we combine int() and input(), aka function composition\n",
        "n = int(input('Enter a number: '))\n",
        "print(type(n))"
      ],
      "execution_count": null,
      "outputs": []
    },
    {
      "cell_type": "code",
      "metadata": {
        "id": "TeAVpPjqwYyk"
      },
      "source": [
        "# a float example\n",
        "f = float(input('Enter a floating point number: '))\n",
        "print(type(f))"
      ],
      "execution_count": null,
      "outputs": []
    },
    {
      "cell_type": "markdown",
      "metadata": {
        "id": "b1Oe5Nyt7_Wm"
      },
      "source": [
        "## Demo - Hypotenuse Finder"
      ]
    },
    {
      "cell_type": "markdown",
      "metadata": {
        "id": "Utw8CEDwQZFg"
      },
      "source": [
        "**Concepts and Skills**\n",
        "* Grade 8 Concept: Algebra\n",
        "* Grade 8 Skill: Solving Equations/Expressions with Substitution\n",
        "* Grade 8-9 Skill: Follow Order of Operations\n",
        "* Grade 8-9 Skill: Problem Solving\n",
        "* Grade 9 Concept: Algebraic Models\n",
        "* Grade 9 Concept: Building Models\n",
        "* Grade 9 Concept: Linear Relations/Algebra\n",
        "* Grade 9 Concept: Exponents\n",
        "* Grade 9 Concept: Geometry\n",
        "* Grade 9 Concept: Measurement (Perimeter, Area, Volume)\n",
        "* Grade 9 Skill: Make Connections to Real-life Applications\n",
        "\n",
        "**Coding Expectations**\n",
        "* Grade 8 C3.1 solve problems and create computational representations of mathematical situations by writing and executing code, including code that involves the analysis of data in order to inform and communicate decisions\n",
        "* Grade 9 C2.1 use coding to demonstrate an understanding of algebraic concepts including variables, parameters, equations, and inequalities\n",
        "* Grade 9 C2.2 create code by decomposing situations into computational steps in order to represent mathematical concepts and relationships, and to solve problems"
      ]
    },
    {
      "cell_type": "code",
      "metadata": {
        "colab": {
          "base_uri": "https://localhost:8080/"
        },
        "id": "_-k3K6wa8GeP",
        "outputId": "6b4d8ee9-110e-498a-c1ff-0f1a7407063f"
      },
      "source": [
        "side_a = int(input('Enter side A: '))\n",
        "side_b = int(input('Enter side B '))\n",
        "hypotenuse = (side_a**2 + side_b**2) ** 0.5\n",
        "print('The hypotenuse is', hypotenuse)"
      ],
      "execution_count": null,
      "outputs": [
        {
          "output_type": "stream",
          "text": [
            "Enter side A: 3\n",
            "Enter side B 4\n",
            "The hypotenuse is 5.0\n"
          ],
          "name": "stdout"
        }
      ]
    },
    {
      "cell_type": "markdown",
      "metadata": {
        "id": "_Tl0PRK4uWz8"
      },
      "source": [
        "## Demo - BMI Calculator"
      ]
    },
    {
      "cell_type": "markdown",
      "metadata": {
        "id": "Qrgg3p2vaSoU"
      },
      "source": [
        "**Concepts and Skills**\n",
        "* Grade 8 Concept: Algebra\n",
        "* Grade 8 Skill: Solving Equations/Expressions with Substitution\n",
        "* Grade 8-9 Skill: Follow Order of Operations\n",
        "* Grade 8-9 Skill: Problem Solving\n",
        "* Grade 9 Concept: Algebraic Models\n",
        "* Grade 9 Concept: Building Models\n",
        "* Grade 9 Concept: Linear Relations/Algebra\n",
        "* Grade 9 Concept: Exponents\n",
        "* Grade 9 Skill: Make Connections to Real-life Applications\n",
        "\n",
        "**Coding Expectations**\n",
        "* Grade 8 C3.1 solve problems and create computational representations of mathematical situations by writing and executing code, including code that involves the analysis of data in order to inform and communicate decisions\n",
        "* Grade 9 C2.1 use coding to demonstrate an understanding of algebraic concepts including variables, parameters, equations, and inequalities\n",
        "* Grade 9 C2.2 create code by decomposing situations into computational steps in order to represent mathematical concepts and relationships, and to solve problems\n",
        "\n",
        "**Tip:** Have a look at this cheat sheet to learn how to use f-strings: https://myshell.co.uk/blog/2018/11/python-f-string-formatting-cheatsheet/"
      ]
    },
    {
      "cell_type": "code",
      "metadata": {
        "colab": {
          "base_uri": "https://localhost:8080/"
        },
        "id": "KzUXsvRHub5V",
        "outputId": "4e275ec9-9b8b-4a8b-85be-d4354b1d7275"
      },
      "source": [
        "h = float(input('Enter height in metres: '))\n",
        "m = float(input('Enter mass in kg: '))\n",
        "bmi = m / h**2\n",
        "# print('Your BMI is', bmi)\n",
        "\n",
        "# introducing f-strings\n",
        "print(f'Your BMI is {bmi:.2f}')"
      ],
      "execution_count": null,
      "outputs": [
        {
          "output_type": "stream",
          "text": [
            "Enter height in metres: 1.7\n",
            "Enter mass in kg: 70\n",
            "Your BMI is 24.22\n"
          ],
          "name": "stdout"
        }
      ]
    },
    {
      "cell_type": "markdown",
      "metadata": {
        "id": "StPLSdE9eQTu"
      },
      "source": [
        "##Demo - Sum of Multiples of 3 or 5"
      ]
    },
    {
      "cell_type": "markdown",
      "metadata": {
        "id": "2BOvPH7jbJRg"
      },
      "source": [
        "Source: https://projecteuler.net/problem=1\n",
        "\n",
        "If we list all the natural numbers below 10 that are multiples of 3 or 5, we get 3, 5, 6 and 9. The sum of these multiples is 23.\n",
        "\n",
        "Find the sum of all the multiples of 3 or 5 below 1000.\n",
        "\n",
        "**Concepts and Skills**\n",
        "* Grade 8 Concept: Integers\n",
        "* Grade 8-9 Skill: Problem Solving\n",
        "* Grade 8-9 Skill: Using a Variable\n",
        "\n",
        "**Coding Expectations**\n",
        "* Grade 8 C3.1 solve problems and create computational representations of mathematical situations by writing and executing code, including code that involves the analysis of data in order to inform and communicate decisions\n",
        "* Grade 9 C2.1 use coding to demonstrate an understanding of algebraic concepts including variables, parameters, equations, and inequalities\n",
        "* Grade 9 C2.2 create code by decomposing situations into computational steps in order to represent mathematical concepts and relationships, and to solve problems"
      ]
    },
    {
      "cell_type": "code",
      "metadata": {
        "colab": {
          "base_uri": "https://localhost:8080/"
        },
        "id": "6tTOSpdobxhE",
        "outputId": "b3f6311c-8b19-4198-be27-f31880c8ac91"
      },
      "source": [
        "sum = 0\n",
        "for i in range(1000):\n",
        "    if i % 3 == 0 or i % 5 == 0:\n",
        "        sum = sum + i # can also be sum += i\n",
        "print(sum)"
      ],
      "execution_count": null,
      "outputs": [
        {
          "output_type": "stream",
          "text": [
            "233168\n"
          ],
          "name": "stdout"
        }
      ]
    },
    {
      "cell_type": "markdown",
      "metadata": {
        "id": "3Eb26H_xNXpY"
      },
      "source": [
        "## Demo - Plotting Data from Google Sheets"
      ]
    },
    {
      "cell_type": "markdown",
      "metadata": {
        "id": "HjINV4bqNepQ"
      },
      "source": [
        "**Concepts and Skills**\n",
        "* Grade 8 Concept: Integers\n",
        "* Grade 8 Skill: Represent/Compare\n",
        "* Grade 8 Skill: Solving Equations/Expressions with Substitution\n",
        "* Grade 8-9 Skill: Problem Solving\n",
        "* Grade 8-9 Skill: Using a Variable\n",
        "* Grade 9 Concept: Algebraic Models\n",
        "* Grade 9 Concept: Building Models\n",
        "* Grade 9 Concept: Exponents\n",
        "* Grade 9 Concept: Linear Relations/Algebra\n",
        "* Grade 9 Skill: Data Analysis\n",
        "* Grade 9 Skill: Graphing\n",
        "* Grade 9 Skill: Make Connections to Real-life Applications\n",
        "* Grade 9 Skill: Mathematical Communication\n",
        "\n",
        "**Coding Expectations**\n",
        "* Grade 8 C3.1 solve problems and create computational representations of mathematical situations by writing and executing code, including code that involves the analysis of data in order to inform and communicate decisions\n",
        "* Grade 8 C3.2 read and alter existing code involving the analysis of data in order to inform and communicate decisions, and describe how changes to the code affect the outcomes and the efficiency of the code *(with adaptation)*\n",
        "* Grade 9 C2.1 use coding to demonstrate an understanding of algebraic concepts including variables, parameters, equations, and inequalities\n",
        "* Grade 9 C2.2 create code by decomposing situations into computational steps in order to represent mathematical concepts and relationships, and to solve problems\n",
        "* Grade 9 C2.3 read code to predict its outcome, and alter code to adjust constraints, parameters, and outcomes to represent a similar or new mathematical situation *(with adaptation)* \n",
        "\n",
        "See [here](https://github.com/pbeens/OTF-Data-Analysis-2021-05) for the entire Data Analysis presentation from May, 2021.\n",
        "\n",
        "**Further Reading**\n",
        "\n",
        "* https://matplotlib.org/stable/tutorials/introductory/pyplot.html"
      ]
    },
    {
      "cell_type": "markdown",
      "metadata": {
        "id": "K_L2N63GpgTL"
      },
      "source": [
        "**< This demo can be found [here](https://github.com/pbeens/OTF-Data-Analysis-2021-05/blob/main/Demo_Input_Data_from_Google_Sheet.ipynb). >**"
      ]
    },
    {
      "cell_type": "markdown",
      "metadata": {
        "id": "SKcpkuu6oIoz"
      },
      "source": [
        "## Demo - ACSE Financial Literacy Unit"
      ]
    },
    {
      "cell_type": "markdown",
      "metadata": {
        "id": "v3HkrsKboOeG"
      },
      "source": [
        "Source: https://docs.google.com/document/d/1as95YMwmaxtGrK4Ncjdx2WCkz1jdpyKyjq_V4Igf2zM/edit?pli=1#heading=h.j41a35a0ppua\n",
        "\n",
        "A local Computer Store is offering a special purchase option on a tablet computer in 12 easy monthly payments of only \\$68.99 with no money down. The regular purchase price is $499 plus 13% HST. \n",
        "\n",
        "Create a table of values showing the total amount paid after each month.\n",
        "\n",
        "**Tip:** Have a look at this cheat sheet to learn how to use f-strings: https://myshell.co.uk/blog/2018/11/python-f-string-formatting-cheatsheet/\n",
        "\n",
        "**Concepts and Skills**\n",
        "* Grade 8 Concept: Algebra\n",
        "* Grade 8 Skill: Represent/Compare\n",
        "* Grade 8 Skill: Solving Equations/Expressions with Substitution\n",
        "* Grade 8-9 Skill: Problem Solving\n",
        "* Grade 8-9 Skill: Using a Variable\n",
        "* Grade 9 Concept: Algebraic Models\n",
        "* Grade 9 Concept: Building Models\n",
        "* Grade 9 Concept: Financial Math\n",
        "* Grade 9 Skill: Data Analysis\n",
        "* Grade 9 Skill: Make Connections to Real-life Applications\n",
        "\n",
        "**Coding Expectations**\n",
        "* Grade 8 C3.1 solve problems and create computational representations of mathematical situations by writing and executing code, including code that involves the analysis of data in order to inform and communicate decisions\n",
        "* Grade 9 C2.1 use coding to demonstrate an understanding of algebraic concepts including variables, parameters, equations, and inequalities\n",
        "* Grade 9 C2.2 create code by decomposing situations into computational steps in order to represent mathematical concepts and relationships, and to solve problems"
      ]
    },
    {
      "cell_type": "code",
      "metadata": {
        "colab": {
          "base_uri": "https://localhost:8080/"
        },
        "id": "vsnBMIy_oRVm",
        "outputId": "f3ffb288-5b6c-40d7-b5b7-9b4246f4ac07"
      },
      "source": [
        "pmt = 68.99\n",
        "num_pmts = 12\n",
        "total_paid = 0 # initially\n",
        "\n",
        "print('Month #\\t\\tTotal Paid')\n",
        "for i in range(num_pmts):\n",
        "    total_paid += pmt\n",
        "    print(f'{i+1:^5}\\t\\t${total_paid:>7.2f}')"
      ],
      "execution_count": null,
      "outputs": [
        {
          "output_type": "stream",
          "text": [
            "Month #\t\tTotal Paid\n",
            "  1  \t\t$  68.99\n",
            "  2  \t\t$ 137.98\n",
            "  3  \t\t$ 206.97\n",
            "  4  \t\t$ 275.96\n",
            "  5  \t\t$ 344.95\n",
            "  6  \t\t$ 413.94\n",
            "  7  \t\t$ 482.93\n",
            "  8  \t\t$ 551.92\n",
            "  9  \t\t$ 620.91\n",
            " 10  \t\t$ 689.90\n",
            " 11  \t\t$ 758.89\n",
            " 12  \t\t$ 827.88\n"
          ],
          "name": "stdout"
        }
      ]
    },
    {
      "cell_type": "markdown",
      "metadata": {
        "id": "-TAuiN39WJuk"
      },
      "source": [
        "##Demo - Boxplot"
      ]
    },
    {
      "cell_type": "markdown",
      "metadata": {
        "id": "4y0hBK9QcM9O"
      },
      "source": [
        "**Concepts and Skills**\n",
        "* Grade 8 Concept: Integers\n",
        "* Grade 8 Skill: Represent/Compare\n",
        "* Grade 8-9 Skill: Problem Solving\n",
        "* Grade 8-9 Skill: Using a Variable\n",
        "* Grade 9 Skill: Data Analysis\n",
        "* Grade 9 Skill: Graphing\n",
        "* Grade 9 Skill: Mathematical Communication\n",
        "\n",
        "**Coding Expectations**\n",
        "* Grade 8 C3.1 solve problems and create computational representations of mathematical situations by writing and executing code, including code that involves the analysis of data in order to inform and communicate decisions\n",
        "* Grade 9 C2.1 use coding to demonstrate an understanding of algebraic concepts including variables, parameters, equations, and inequalities\n",
        "* Grade 9 C2.2 create code by decomposing situations into computational steps in order to represent mathematical concepts and relationships, and to solve problems\n",
        "\n",
        "**Further Reading**\n",
        "\n",
        "* https://matplotlib.org/stable/api/_as_gen/matplotlib.pyplot.boxplot.html\n",
        "* https://stackoverflow.com/questions/3996904/generate-random-integers-between-0-and-9"
      ]
    },
    {
      "cell_type": "code",
      "metadata": {
        "id": "eAxhwBuNWQVp"
      },
      "source": [
        "import random"
      ],
      "execution_count": null,
      "outputs": []
    },
    {
      "cell_type": "code",
      "metadata": {
        "colab": {
          "base_uri": "https://localhost:8080/"
        },
        "id": "CgNNUXZFWVpC",
        "outputId": "41d0c0e9-bb11-4466-9fe9-3f2793f8e2b3"
      },
      "source": [
        "# generate 200 random data points between 1 and 100 (inclusive)\n",
        "\n",
        "data = [] # empty list\n",
        "for i in range(200):\n",
        "    y = random.randint(1, 101)\n",
        "    data.append(y)\n",
        "\n",
        "print(data)"
      ],
      "execution_count": null,
      "outputs": [
        {
          "output_type": "stream",
          "text": [
            "[30, 69, 22, 61, 59, 10, 15, 37, 15, 63, 95, 64, 94, 92, 30, 52, 10, 38, 68, 89, 94, 54, 56, 89, 53, 9, 7, 58, 68, 36, 50, 30, 50, 28, 73, 62, 81, 33, 64, 100, 83, 79, 4, 35, 18, 88, 61, 82, 85, 76, 24, 94, 34, 31, 19, 5, 63, 30, 34, 86, 27, 57, 2, 19, 58, 93, 28, 82, 87, 62, 81, 40, 19, 61, 20, 12, 16, 49, 74, 31, 5, 45, 36, 74, 86, 28, 13, 3, 76, 12, 9, 63, 21, 26, 48, 69, 48, 75, 53, 84, 28, 52, 54, 77, 59, 90, 71, 97, 35, 39, 56, 43, 27, 11, 37, 60, 26, 32, 58, 49, 15, 13, 32, 87, 69, 58, 78, 86, 5, 43, 46, 96, 4, 77, 76, 93, 31, 58, 49, 95, 66, 44, 97, 101, 62, 38, 75, 35, 91, 53, 18, 10, 9, 100, 51, 54, 65, 90, 72, 48, 62, 82, 95, 69, 40, 23, 29, 23, 97, 25, 24, 73, 67, 14, 8, 59, 56, 67, 6, 19, 36, 17, 61, 77, 85, 4, 26, 37, 21, 32, 67, 101, 83, 95, 47, 49, 41, 90, 34, 83]\n"
          ],
          "name": "stdout"
        }
      ]
    },
    {
      "cell_type": "code",
      "metadata": {
        "colab": {
          "base_uri": "https://localhost:8080/",
          "height": 265
        },
        "id": "0I6ULDCqW0Dy",
        "outputId": "e575906d-57fc-444a-b36f-207d7cffd17e"
      },
      "source": [
        "# boxplot\n",
        "\n",
        "import matplotlib.pyplot as plt\n",
        "\n",
        "plt.boxplot(data,labels=[\"Random Data\"])\n",
        "plt.show()"
      ],
      "execution_count": null,
      "outputs": [
        {
          "output_type": "display_data",
          "data": {
            "image/png": "[encoded data removed]",
            "text/plain": [
              "<Figure size 432x288 with 1 Axes>"
            ]
          },
          "metadata": {
            "tags": [],
            "needs_background": "light"
          }
        }
      ]
    },
    {
      "cell_type": "markdown",
      "metadata": {
        "id": "vlweIFQsuMAb"
      },
      "source": [
        "## Bonus Python: Mathematical Expressions when Graphingl (and Using List Comprehension)"
      ]
    },
    {
      "cell_type": "markdown",
      "metadata": {
        "id": "Iqz7yfUtvw6E"
      },
      "source": [
        "**Further Reading**\n",
        "* https://matplotlib.org/stable/tutorials/text/mathtext.html\n",
        "* https://matplotlib.org/stable/tutorials/introductory/pyplot.html\n",
        "\n",
        "**Concepts and Skills**\n",
        "* Grade 9 Skill: Mathematical Communication"
      ]
    },
    {
      "cell_type": "code",
      "metadata": {
        "id": "WdY7TaN1unrH"
      },
      "source": [
        "import matplotlib.pyplot as plt"
      ],
      "execution_count": null,
      "outputs": []
    },
    {
      "cell_type": "code",
      "metadata": {
        "id": "eKVOAZitPqAf"
      },
      "source": [
        "# let's create some data using list comprehension (advanced technique)\n",
        "\n",
        "x = [n for n in range(1, 20)]\n",
        "y = [n**2 for n in x]"
      ],
      "execution_count": null,
      "outputs": []
    },
    {
      "cell_type": "code",
      "metadata": {
        "colab": {
          "base_uri": "https://localhost:8080/",
          "height": 281
        },
        "id": "Gzm-BwyRyVhr",
        "outputId": "27ecbc52-995a-4a13-84cd-7c060f95028b"
      },
      "source": [
        "# plain text on graph\n",
        "\n",
        "plt.plot(x, y)\n",
        "plt.title('alpha > beta')\n",
        "plt.show()"
      ],
      "execution_count": null,
      "outputs": [
        {
          "output_type": "display_data",
          "data": {
            "image/png": "[encoded data removed]",
            "text/plain": [
              "<Figure size 432x288 with 1 Axes>"
            ]
          },
          "metadata": {
            "tags": [],
            "needs_background": "light"
          }
        }
      ]
    },
    {
      "cell_type": "code",
      "metadata": {
        "colab": {
          "base_uri": "https://localhost:8080/",
          "height": 282
        },
        "id": "JY7YYXGQzIEt",
        "outputId": "51f324f1-0ab8-4408-8471-df8b722a2832"
      },
      "source": [
        "# example with proper Greek letters\n",
        "\n",
        "plt.plot(x, y)\n",
        "plt.title(r'$\\alpha > \\beta$') \n",
        "plt.show()"
      ],
      "execution_count": null,
      "outputs": [
        {
          "output_type": "display_data",
          "data": {
            "image/png": "[encoded data removed]",
            "text/plain": [
              "<Figure size 432x288 with 1 Axes>"
            ]
          },
          "metadata": {
            "tags": [],
            "needs_background": "light"
          }
        }
      ]
    },
    {
      "cell_type": "code",
      "metadata": {
        "colab": {
          "base_uri": "https://localhost:8080/",
          "height": 282
        },
        "id": "it8Avv26zIWD",
        "outputId": "6623fe37-b3a5-4696-b1c6-10f4e646451c"
      },
      "source": [
        "# example with underscores\n",
        "\n",
        "plt.plot(x, y)\n",
        "plt.title(r'$\\alpha_2 > \\beta_2$') \n",
        "plt.show()"
      ],
      "execution_count": null,
      "outputs": [
        {
          "output_type": "display_data",
          "data": {
            "image/png": "[encoded data removed]",
            "text/plain": [
              "<Figure size 432x288 with 1 Axes>"
            ]
          },
          "metadata": {
            "tags": [],
            "needs_background": "light"
          }
        }
      ]
    },
    {
      "cell_type": "markdown",
      "metadata": {
        "id": "LnGb96otuHjI"
      },
      "source": [
        "## Bonus Python: Math Module (and Using Help)"
      ]
    },
    {
      "cell_type": "code",
      "metadata": {
        "colab": {
          "base_uri": "https://localhost:8080/"
        },
        "id": "IqYKDG9twLNs",
        "outputId": "7277aa50-ae9c-40bd-8d5b-3cbd0700ebc7"
      },
      "source": [
        "import math\n",
        "import textwrap\n",
        "\n",
        "print(textwrap.fill(str(dir(math)), 60))"
      ],
      "execution_count": null,
      "outputs": [
        {
          "output_type": "stream",
          "text": [
            "['__doc__', '__loader__', '__name__', '__package__',\n",
            "'__spec__', 'acos', 'acosh', 'asin', 'asinh', 'atan',\n",
            "'atan2', 'atanh', 'ceil', 'copysign', 'cos', 'cosh',\n",
            "'degrees', 'e', 'erf', 'erfc', 'exp', 'expm1', 'fabs',\n",
            "'factorial', 'floor', 'fmod', 'frexp', 'fsum', 'gamma',\n",
            "'gcd', 'hypot', 'inf', 'isclose', 'isfinite', 'isinf',\n",
            "'isnan', 'ldexp', 'lgamma', 'log', 'log10', 'log1p', 'log2',\n",
            "'modf', 'nan', 'pi', 'pow', 'radians', 'remainder', 'sin',\n",
            "'sinh', 'sqrt', 'tan', 'tanh', 'tau', 'trunc']\n"
          ],
          "name": "stdout"
        }
      ]
    },
    {
      "cell_type": "code",
      "metadata": {
        "id": "Uk_R3uHMxdcE"
      },
      "source": [
        "help(math.hypot)"
      ],
      "execution_count": null,
      "outputs": []
    },
    {
      "cell_type": "code",
      "metadata": {
        "id": "tOwEod1cyrl-"
      },
      "source": [
        "help(math.gcd)"
      ],
      "execution_count": null,
      "outputs": []
    },
    {
      "cell_type": "code",
      "metadata": {
        "id": "SUMx_YwPzF-f"
      },
      "source": [
        "print(math.gcd(56, 68))"
      ],
      "execution_count": null,
      "outputs": []
    },
    {
      "cell_type": "markdown",
      "metadata": {
        "id": "ZCMsZ29rRC0p"
      },
      "source": [
        "## Python Basics: Fractions Module"
      ]
    },
    {
      "cell_type": "markdown",
      "metadata": {
        "id": "MuGEgqNNRJuK"
      },
      "source": [
        "**Further Reading** \n",
        "* https://docs.python.org/3/library/fractions.html\n",
        "* https://www.tutorialspoint.com/fraction-module-in-python\n",
        "* https://www.geeksforgeeks.org/fraction-module-python/\n",
        "\n",
        "**Concepts and Skills**\n",
        "* Grade 8 Concept: Fractions\n",
        "* Grade 8 Concept: Multiplication and Division of Fractions\n",
        "* Grade 8 Skill: Multiplication and Division of Fractions"
      ]
    },
    {
      "cell_type": "code",
      "metadata": {
        "id": "fcwki0NCRFQh"
      },
      "source": [
        "from fractions import Fraction\n",
        "\n",
        "frac = Fraction(9, 27)\n",
        "print(frac)\n",
        "print(frac.numerator)\n",
        "print(frac.denominator)"
      ],
      "execution_count": null,
      "outputs": []
    },
    {
      "cell_type": "code",
      "metadata": {
        "id": "7hx3JgFBYdqD"
      },
      "source": [
        "print(Fraction('1.2')) # simplified fractionm must be a string!"
      ],
      "execution_count": null,
      "outputs": []
    },
    {
      "cell_type": "code",
      "metadata": {
        "id": "3ftu_lOHRYxa"
      },
      "source": [
        "import math\n",
        "print(Fraction('3.1415926535897932').limit_denominator(60))"
      ],
      "execution_count": null,
      "outputs": []
    },
    {
      "cell_type": "code",
      "metadata": {
        "id": "uSzlW8j3Ro5H"
      },
      "source": [
        "# fraction multiplication\n",
        "\n",
        "print(Fraction(1,3) * Fraction(1,2))"
      ],
      "execution_count": null,
      "outputs": []
    },
    {
      "cell_type": "code",
      "metadata": {
        "id": "DZqMSb6EXKMO"
      },
      "source": [
        "# fraction division\n",
        "\n",
        "print(Fraction(1,3) * Fraction(1,2))"
      ],
      "execution_count": null,
      "outputs": []
    },
    {
      "cell_type": "markdown",
      "metadata": {
        "id": "U6XFmkOakDb2"
      },
      "source": [
        "## Some Quick Challenges"
      ]
    },
    {
      "cell_type": "markdown",
      "metadata": {
        "id": "H53pf3DSkGDb"
      },
      "source": [
        "Print 'Hello world'."
      ]
    },
    {
      "cell_type": "code",
      "metadata": {
        "id": "cTeiXFRakLmb"
      },
      "source": [
        ""
      ],
      "execution_count": null,
      "outputs": []
    },
    {
      "cell_type": "markdown",
      "metadata": {
        "id": "AP8hN7OakMF9"
      },
      "source": [
        "Assign 'Hello' to a variable named `s` and print it."
      ]
    },
    {
      "cell_type": "code",
      "metadata": {
        "id": "-WhYB7D7kdeC"
      },
      "source": [
        ""
      ],
      "execution_count": null,
      "outputs": []
    },
    {
      "cell_type": "markdown",
      "metadata": {
        "id": "WldUFA6mkjNS"
      },
      "source": [
        "Prompt for your name using `input()` and then print it. ([Hint](https://www.w3schools.com/python/ref_func_input.asp))"
      ]
    },
    {
      "cell_type": "code",
      "metadata": {
        "id": "dUqoFzdZkxxI"
      },
      "source": [
        "name = \n",
        "\n",
        "print(name)"
      ],
      "execution_count": null,
      "outputs": []
    },
    {
      "cell_type": "markdown",
      "metadata": {
        "id": "nRuALyyllZnZ"
      },
      "source": [
        "Prompt for an integer and then print it."
      ]
    },
    {
      "cell_type": "code",
      "metadata": {
        "id": "rPmMPMfkleqF"
      },
      "source": [
        "num = \n",
        "\n",
        "print()"
      ],
      "execution_count": null,
      "outputs": []
    },
    {
      "cell_type": "markdown",
      "metadata": {
        "id": "A9fSp32GlivO"
      },
      "source": [
        "Prompt for an integer and then print its square."
      ]
    },
    {
      "cell_type": "code",
      "metadata": {
        "id": "wrZ2BUXXln7j"
      },
      "source": [
        "num = \n",
        "\n",
        "print()"
      ],
      "execution_count": null,
      "outputs": []
    }
  ]
}