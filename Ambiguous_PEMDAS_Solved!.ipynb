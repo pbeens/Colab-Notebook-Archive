{
  "nbformat": 4,
  "nbformat_minor": 0,
  "metadata": {
    "colab": {
      "name": "Ambiguous PEMDAS - Solved!.ipynb",
      "provenance": [],
      "authorship_tag": "ABX9TyPrHW8d1OuDd+kYmBqddfaj",
      "include_colab_link": true
    },
    "kernelspec": {
      "name": "python3",
      "display_name": "Python 3"
    },
    "language_info": {
      "name": "python"
    }
  },
  "cells": [
    {
      "cell_type": "markdown",
      "metadata": {
        "id": "view-in-github",
        "colab_type": "text"
      },
      "source": [
        "<a href=\"https://colab.research.google.com/github/pbeens/Colab-Notebook-Archive/blob/main/Ambiguous_PEMDAS_Solved!.ipynb\" target=\"_parent\"><img src=\"https://colab.research.google.com/assets/colab-badge.svg\" alt=\"Open In Colab\"/></a>"
      ]
    },
    {
      "cell_type": "markdown",
      "source": [
        "What is the answer of `2x/3y-1` if x=9 and y=2?\n",
        "\n",
        "That is the question posed on [this website](https://people.math.harvard.edu/~knill/pedagogy/ambiguity/index.html), with a great explanation of how the answer could be 11 or 2, depending if you grew up with PEDMAS or PEMDAS or perhaps how you visualize the problem. \n",
        "\n",
        "So let's get Python to solve it for us! \n",
        "\n",
        "The only presumption I will make is that there are no groupings (such as 2*x* or 3*y*), because none are shown in the formula though the use of parentheses. "
      ],
      "metadata": {
        "id": "1DLlRKc506Nr"
      }
    },
    {
      "cell_type": "code",
      "execution_count": 1,
      "metadata": {
        "id": "kFbzFHS60ymL"
      },
      "outputs": [],
      "source": [
        "x = 9\n",
        "y = 2\n",
        "\n",
        "answer = 2 * x / 3 * y - 1"
      ]
    },
    {
      "cell_type": "markdown",
      "source": [
        "And the answer is..."
      ],
      "metadata": {
        "id": "oGsgEu0E2DjJ"
      }
    },
    {
      "cell_type": "code",
      "source": [
        "print(answer)"
      ],
      "metadata": {
        "colab": {
          "base_uri": "https://localhost:8080/"
        },
        "id": "rLIVVyuE2GMP",
        "outputId": "e3dd96ac-6d79-4e96-d8e8-25165d6ebdac"
      },
      "execution_count": 2,
      "outputs": [
        {
          "output_type": "stream",
          "name": "stdout",
          "text": [
            "11.0\n"
          ]
        }
      ]
    },
    {
      "cell_type": "markdown",
      "source": [
        "Truthfully, the problem is related to the presentation of the formula. If you had seen it this way the solution would be quite different. \n",
        "\n",
        "> $\\large{2x \\over 3y} \\small- 1$"
      ],
      "metadata": {
        "id": "46MfNZSr2qhy"
      }
    }
  ]
}