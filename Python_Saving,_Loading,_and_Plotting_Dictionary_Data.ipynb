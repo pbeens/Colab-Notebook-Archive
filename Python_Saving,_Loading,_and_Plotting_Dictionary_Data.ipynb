{
  "nbformat": 4,
  "nbformat_minor": 0,
  "metadata": {
    "colab": {
      "name": "Python - Saving, Loading, and Plotting Dictionary Data.ipynb",
      "provenance": [],
      "collapsed_sections": [],
      "authorship_tag": "ABX9TyOEBoqQYDC7YSwDN8lJ5t4m",
      "include_colab_link": true
    },
    "kernelspec": {
      "name": "python3",
      "display_name": "Python 3"
    },
    "language_info": {
      "name": "python"
    }
  },
  "cells": [
    {
      "cell_type": "markdown",
      "metadata": {
        "id": "view-in-github",
        "colab_type": "text"
      },
      "source": [
        "<a href=\"https://colab.research.google.com/github/pbeens/Colab-Notebook-Archive/blob/main/Python_Saving%2C_Loading%2C_and_Plotting_Dictionary_Data.ipynb\" target=\"_parent\"><img src=\"https://colab.research.google.com/assets/colab-badge.svg\" alt=\"Open In Colab\"/></a>"
      ]
    },
    {
      "cell_type": "markdown",
      "source": [
        "Inspired by https://stackoverflow.com/questions/19201290/how-to-save-a-dictionary-to-a-file\n",
        "\n",
        "First, this notebook demonstrates two ways to create a dictionary. **Run only one of these methods.** The manual method simply assigns values to the letters a, b, and c. The  random method assigns values randomly to the letters a to z.\n",
        "\n",
        "Next, the notebook saves the dictionary data in a numpy-type file.\n",
        "\n",
        "Then, the notebook reloads that data, and that is the data which will be used for printing and plotting. \n",
        "\n",
        "After that, the data is printed two ways — unsorted and sorted (by values). The sorted method is rather tricky, so you may wish to bookmark this notebook in case you ever want to sort a dictionary by its values again.\n",
        "\n",
        "Lastly, the data is plotted using matplotlib, which is the defacto standard for plotting data in Python.\n",
        "\n",
        "Feel free to make a copy and experiment for yourself!\n",
        "\n",
        "If you spot any mistakes or have any recommendations, feel free to reach out to me at <a href=\"mailto:feedback@beens.mozmail.com?subject=Python - Saving, Loading, and Plotting Dictionary Data.ipynb\">feedback@beens.mozmail.com</a>. "
      ],
      "metadata": {
        "id": "s2jWLQoy4COy"
      }
    },
    {
      "cell_type": "code",
      "execution_count": null,
      "metadata": {
        "id": "AzFilhT733AU"
      },
      "outputs": [],
      "source": [
        "# We will be using a numpy data format for saving the data\n",
        "import numpy as np"
      ]
    },
    {
      "cell_type": "code",
      "source": [
        "#\n",
        "# Either run this cell or the next one\n",
        "#\n",
        "\n",
        "# Manually create a dictionary\n",
        "letter_popularity_dict = {'a': 3, \n",
        "                          'b': 15, \n",
        "                          'c': 7}"
      ],
      "metadata": {
        "id": "FuorVOG__1cb"
      },
      "execution_count": null,
      "outputs": []
    },
    {
      "cell_type": "code",
      "source": [
        "# Optionally we can create random values for each letter\n",
        "import random\n",
        "import string\n",
        "\n",
        "for letter in string.ascii_lowercase:\n",
        "    letter_popularity_dict[letter] = random.randint(0, 100)"
      ],
      "metadata": {
        "id": "6J1vm7OrADWx"
      },
      "execution_count": null,
      "outputs": []
    },
    {
      "cell_type": "code",
      "source": [
        "# Save\n",
        "np.save('letter_popularity.npy', letter_popularity_dict) "
      ],
      "metadata": {
        "id": "j5RKVbp74F1B"
      },
      "execution_count": null,
      "outputs": []
    },
    {
      "cell_type": "code",
      "source": [
        "# Load\n",
        "letter_popularity_dict = np.load('letter_popularity.npy', \n",
        "                                 allow_pickle='TRUE').item()"
      ],
      "metadata": {
        "id": "afPB4RS04Hlq"
      },
      "execution_count": null,
      "outputs": []
    },
    {
      "cell_type": "code",
      "source": [
        "# print each key-value pair\n",
        "for k, v in letter_popularity_dict.items():\n",
        "    print(f'key = {k} value = {v}')"
      ],
      "metadata": {
        "colab": {
          "base_uri": "https://localhost:8080/"
        },
        "id": "hGJJoAhW5J53",
        "outputId": "b0db9cff-e468-4062-f387-fa028e263967"
      },
      "execution_count": null,
      "outputs": [
        {
          "output_type": "stream",
          "name": "stdout",
          "text": [
            "key = a value = 16\n",
            "key = b value = 91\n",
            "key = c value = 84\n",
            "key = d value = 5\n",
            "key = e value = 98\n",
            "key = f value = 50\n",
            "key = g value = 55\n",
            "key = h value = 87\n",
            "key = i value = 39\n",
            "key = j value = 25\n",
            "key = k value = 27\n",
            "key = l value = 11\n",
            "key = m value = 39\n",
            "key = n value = 55\n",
            "key = o value = 45\n",
            "key = p value = 54\n",
            "key = q value = 94\n",
            "key = r value = 61\n",
            "key = s value = 88\n",
            "key = t value = 25\n",
            "key = u value = 39\n",
            "key = v value = 26\n",
            "key = w value = 51\n",
            "key = x value = 3\n",
            "key = y value = 25\n",
            "key = z value = 76\n"
          ]
        }
      ]
    },
    {
      "cell_type": "code",
      "source": [
        "# View by popularity\n",
        "sorted_dict = dict(sorted(letter_popularity_dict.items(), reverse=True, key=lambda item: item[1]))\n",
        "\n",
        "for k, v in sorted_dict.items():\n",
        "    print(f'key = {k} value = {v}')"
      ],
      "metadata": {
        "colab": {
          "base_uri": "https://localhost:8080/"
        },
        "id": "V-G3f-GJ4uD9",
        "outputId": "34522b3d-ff4f-4661-8472-9c3be2ebd5f9"
      },
      "execution_count": null,
      "outputs": [
        {
          "output_type": "stream",
          "name": "stdout",
          "text": [
            "key = e value = 98\n",
            "key = q value = 94\n",
            "key = b value = 91\n",
            "key = s value = 88\n",
            "key = h value = 87\n",
            "key = c value = 84\n",
            "key = z value = 76\n",
            "key = r value = 61\n",
            "key = g value = 55\n",
            "key = n value = 55\n",
            "key = p value = 54\n",
            "key = w value = 51\n",
            "key = f value = 50\n",
            "key = o value = 45\n",
            "key = i value = 39\n",
            "key = m value = 39\n",
            "key = u value = 39\n",
            "key = k value = 27\n",
            "key = v value = 26\n",
            "key = j value = 25\n",
            "key = t value = 25\n",
            "key = y value = 25\n",
            "key = a value = 16\n",
            "key = l value = 11\n",
            "key = d value = 5\n",
            "key = x value = 3\n"
          ]
        }
      ]
    },
    {
      "cell_type": "code",
      "source": [
        "# need to plot it?\n",
        "import matplotlib.pyplot as plt\n",
        "\n",
        "keys = sorted_dict.keys()\n",
        "values = sorted_dict.values()\n",
        "\n",
        "plt.xlabel('Letter')\n",
        "plt.ylabel('Count')\n",
        "plt.title('Letter Frequency')\n",
        "plt.bar(keys, values)\n",
        "plt.show()"
      ],
      "metadata": {
        "colab": {
          "base_uri": "https://localhost:8080/",
          "height": 295
        },
        "id": "YcgjMkDu9BT_",
        "outputId": "60f8b39f-2aba-437c-87ae-b460427aa035"
      },
      "execution_count": null,
      "outputs": [
        {
          "output_type": "display_data",
          "data": {
            "text/plain": [
              "<Figure size 432x288 with 1 Axes>"
            ],
            "image/png": "[encoded data removed]"
          },
          "metadata": {
            "needs_background": "light"
          }
        }
      ]
    }
  ]
}