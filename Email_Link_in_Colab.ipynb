{
  "nbformat": 4,
  "nbformat_minor": 0,
  "metadata": {
    "colab": {
      "name": "Email Link in Colab.ipynb",
      "provenance": [],
      "authorship_tag": "ABX9TyPPBIt2JfmiA6IS8xPV9+kx",
      "include_colab_link": true
    },
    "kernelspec": {
      "name": "python3",
      "display_name": "Python 3"
    },
    "language_info": {
      "name": "python"
    }
  },
  "cells": [
    {
      "cell_type": "markdown",
      "metadata": {
        "id": "view-in-github",
        "colab_type": "text"
      },
      "source": [
        "<a href=\"https://colab.research.google.com/github/pbeens/Colab-Notebook-Archive/blob/main/Email_Link_in_Colab.ipynb\" target=\"_parent\"><img src=\"https://colab.research.google.com/assets/colab-badge.svg\" alt=\"Open In Colab\"/></a>"
      ]
    },
    {
      "cell_type": "markdown",
      "source": [
        "HTML Code:\n",
        "\n",
        "> `<a href=\"mailto:feedback@beens.mozmail.com?subject=Email Link in Colab.ipynb\">feedback@beens.mozmail.com</a>`\n",
        "\n",
        "Working Link:\n",
        "\n",
        "> <a href=\"mailto:feedback@beens.mozmail.com?subject=Email Link in Colab.ipynb\">feedback@beens.mozmail.com</a>"
      ],
      "metadata": {
        "id": "Y1byyA7KDneK"
      }
    }
  ]
}